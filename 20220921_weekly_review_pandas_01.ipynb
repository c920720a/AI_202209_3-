{
  "nbformat": 4,
  "nbformat_minor": 0,
  "metadata": {
    "colab": {
      "provenance": [],
      "collapsed_sections": []
    },
    "kernelspec": {
      "name": "python3",
      "display_name": "Python 3"
    },
    "language_info": {
      "name": "python"
    }
  },
  "cells": [
    {
      "cell_type": "markdown",
      "source": [
        "## Weekly Review (2022. 09. 13 ~ 16.)\n",
        "* TUE : Matplotlib, Titanic dataset Analysis\n",
        "* WED : Github Update, Matplotlib, Titanic dataset Analysis\n",
        "* THU : Folium, Market dataset\n",
        "* FRI : Folium, Pandas, Titanic dataset Analysis\n",
        "\n",
        "### Pandas Review\n",
        "##### 학습목표\n",
        "* Pandas에 대해 이해한다.\n",
        "* Pandas의 기본 자료 구조형에 대해 이해한다.\n",
        "* Pandas의 기본 자료 구조형 실습을 통해 생성할 수 있다."
      ],
      "metadata": {
        "id": "-4IQnq1WiAFr"
      }
    },
    {
      "cell_type": "markdown",
      "source": [
        "##### 학습내용\n",
        "* Pandas에 대해 알아보기\n",
        "* Pandas 불러오기\n",
        "* Pandas Series 이해하기\n",
        "* DataFrame 객체 이해하기\n",
        "* DataFrame 객체 내부 구조 알아보기"
      ],
      "metadata": {
        "id": "ErcXp2mGiBfF"
      }
    },
    {
      "cell_type": "markdown",
      "source": [
        "#### 1-1 Pandas에 대해 알아보기\n",
        "* Pandas의 핵심 자료 구조는 Series와 DataFrame이다.\n",
        "* Python이 오픈소스 기반 R과 더불어 빅데이터 분석 분야에서 인기가 높아진데는 여러가지 이유가 있지만, 그 중에서 Pandas의 라이브러리 역할이 크다."
      ],
      "metadata": {
        "id": "ggSoIfvrim21"
      }
    },
    {
      "cell_type": "markdown",
      "source": [
        "#### 1-2 Pandas에 앞서 알아보기"
      ],
      "metadata": {
        "id": "IcH0oJp0i-a9"
      }
    },
    {
      "cell_type": "code",
      "execution_count": 1,
      "metadata": {
        "colab": {
          "base_uri": "https://localhost:8080/"
        },
        "id": "7tFuppT9h4Se",
        "outputId": "e92f5408-3f84-430a-d1f7-c5d0f9222b3d"
      },
      "outputs": [
        {
          "output_type": "stream",
          "name": "stdout",
          "text": [
            "banana\n",
            "apple\n",
            "candy\n"
          ]
        }
      ],
      "source": [
        "myfood = ['banana', 'apple', 'candy']\n",
        "print(myfood[0])\n",
        "print(myfood[1])\n",
        "print(myfood[2])"
      ]
    },
    {
      "cell_type": "code",
      "source": [
        "for item in myfood:\n",
        "  print(item)"
      ],
      "metadata": {
        "colab": {
          "base_uri": "https://localhost:8080/"
        },
        "id": "_SFkuXTDjZQk",
        "outputId": "eef4c2ab-8eaa-4680-eede-50cfb8cd4f71"
      },
      "execution_count": 2,
      "outputs": [
        {
          "output_type": "stream",
          "name": "stdout",
          "text": [
            "banana\n",
            "apple\n",
            "candy\n"
          ]
        }
      ]
    },
    {
      "cell_type": "markdown",
      "source": [
        "* [리스트] 리스트를 이용하면 반복을 통해 데이터 관리가 가능하다."
      ],
      "metadata": {
        "id": "VvPpUdPxjiro"
      }
    },
    {
      "cell_type": "markdown",
      "source": [
        "* [딕셔너리(Dictionary)] Python 기본 자료형"
      ],
      "metadata": {
        "id": "FeUHlPPzjoZb"
      }
    },
    {
      "cell_type": "code",
      "source": [
        "dict1 = {'one':'하나', 'two':'둘', 'three':'셋'}\n",
        "dict2 = {1:'하나', 2:'둘', 3:'셋'}\n",
        "dict3 = {'col1':[1,2,3], 'col2':['a', 'b', 'c']}"
      ],
      "metadata": {
        "id": "Xaqiw_5bjhJO"
      },
      "execution_count": 3,
      "outputs": []
    },
    {
      "cell_type": "code",
      "source": [
        "print(dict1)\n",
        "print(dict2)\n",
        "print(dict3)"
      ],
      "metadata": {
        "colab": {
          "base_uri": "https://localhost:8080/"
        },
        "id": "1_HqbroMkJAW",
        "outputId": "59ddf2cb-e601-4690-8308-b5cddaea36de"
      },
      "execution_count": 4,
      "outputs": [
        {
          "output_type": "stream",
          "name": "stdout",
          "text": [
            "{'one': '하나', 'two': '둘', 'three': '셋'}\n",
            "{1: '하나', 2: '둘', 3: '셋'}\n",
            "{'col1': [1, 2, 3], 'col2': ['a', 'b', 'c']}\n"
          ]
        }
      ]
    },
    {
      "cell_type": "markdown",
      "source": [
        "#### 1-3 Pandas 불러오기"
      ],
      "metadata": {
        "id": "FbXqTNGGkQO9"
      }
    },
    {
      "cell_type": "code",
      "source": [
        "import pandas as pd\n",
        "from pandas import Series, DataFrame"
      ],
      "metadata": {
        "id": "WyqpK5g9kOJ_"
      },
      "execution_count": 6,
      "outputs": []
    },
    {
      "cell_type": "markdown",
      "source": [
        "* import pandas as pd : Pandas를 불러온다.\n",
        "* from pandas import Series, DataFrame : Pandas 안의 Series와 DataFrame을 불러온다."
      ],
      "metadata": {
        "id": "dv35LNOWka9I"
      }
    },
    {
      "cell_type": "markdown",
      "source": [
        "#### 1-4 Pandas Series"
      ],
      "metadata": {
        "id": "mhep8w85sVzv"
      }
    },
    {
      "cell_type": "markdown",
      "source": [
        "##### Pandasa의 Series 자료형 만들기\n",
        "* Series 함수를 이용한다.\n",
        "* () 안에는 리스트 자료형으로 값을 넣는다.\n",
        "      # 홍길동 팀의 5일 간의 점수\n",
        "      # [1000, 14000, 3000, 3000, 1000]"
      ],
      "metadata": {
        "id": "SwfcoADGkvYj"
      }
    },
    {
      "cell_type": "code",
      "source": [
        "score = Series( [1000, 14000, 3000, 3000, 1000] )\n",
        "print(score)"
      ],
      "metadata": {
        "colab": {
          "base_uri": "https://localhost:8080/"
        },
        "id": "I5Twe44hkXn_",
        "outputId": "ff605fb5-3aac-448f-ef45-f0ca93348ce3"
      },
      "execution_count": 7,
      "outputs": [
        {
          "output_type": "stream",
          "name": "stdout",
          "text": [
            "0     1000\n",
            "1    14000\n",
            "2     3000\n",
            "3     3000\n",
            "4     1000\n",
            "dtype: int64\n"
          ]
        }
      ]
    },
    {
      "cell_type": "markdown",
      "source": [
        "* Series 객체는 일차원 배열과 달리 각 값에 연결된 값도 동시에 저장된다.\n",
        "* Series 객체는 지정된 값이 없다면 기본적으로 0으로 시작하는 정수 값을 index로 사용한다."
      ],
      "metadata": {
        "id": "Qn4ivfY_lOTF"
      }
    },
    {
      "cell_type": "markdown",
      "source": [
        "##### Pandas Series Index 값 지정하기"
      ],
      "metadata": {
        "id": "DCwHIAIqlXwU"
      }
    },
    {
      "cell_type": "code",
      "source": [
        "score = Series( [1000, 14000, 3000] )\n",
        "print(score)"
      ],
      "metadata": {
        "colab": {
          "base_uri": "https://localhost:8080/"
        },
        "id": "yLM5-QJ4loJ1",
        "outputId": "d081a774-4d26-4af8-f4c5-753a2bb5283f"
      },
      "execution_count": 9,
      "outputs": [
        {
          "output_type": "stream",
          "name": "stdout",
          "text": [
            "0     1000\n",
            "1    14000\n",
            "2     3000\n",
            "dtype: int64\n"
          ]
        }
      ]
    },
    {
      "cell_type": "code",
      "source": [
        "score = Series( [1000, 14000, 3000],\n",
        "               index = ['2019-05-01', '2019-05-02', '2019-05-03'])\n",
        "print(score)"
      ],
      "metadata": {
        "colab": {
          "base_uri": "https://localhost:8080/"
        },
        "id": "jaA_BaB5lxS_",
        "outputId": "f6e83524-2ba5-4dbc-8241-d017d83a7abe"
      },
      "execution_count": 10,
      "outputs": [
        {
          "output_type": "stream",
          "name": "stdout",
          "text": [
            "2019-05-01     1000\n",
            "2019-05-02    14000\n",
            "2019-05-03     3000\n",
            "dtype: int64\n"
          ]
        }
      ]
    },
    {
      "cell_type": "code",
      "source": [
        "print( score['2019-05-01'] )\n",
        "print()\n",
        "print( score['2019-05-02':'2019-05-03'] )"
      ],
      "metadata": {
        "colab": {
          "base_uri": "https://localhost:8080/"
        },
        "id": "3CkLxUXnlMGE",
        "outputId": "70b8bb6f-71ea-4c17-f6cb-96a03308e672"
      },
      "execution_count": 11,
      "outputs": [
        {
          "output_type": "stream",
          "name": "stdout",
          "text": [
            "1000\n",
            "\n",
            "2019-05-02    14000\n",
            "2019-05-03     3000\n",
            "dtype: int64\n"
          ]
        }
      ]
    },
    {
      "cell_type": "markdown",
      "source": [
        "* Index를 날짜로 지정하여 값의 접근 및 확인(출력)이 가능하다."
      ],
      "metadata": {
        "id": "ilkfQxG7mAgd"
      }
    },
    {
      "cell_type": "markdown",
      "source": [
        "##### Index 확인하기, Index에 해당되는 값을 확인하기"
      ],
      "metadata": {
        "id": "ulNNiqfymHiI"
      }
    },
    {
      "cell_type": "code",
      "source": [
        "for idx in score.index:\n",
        "  print(idx)"
      ],
      "metadata": {
        "colab": {
          "base_uri": "https://localhost:8080/"
        },
        "id": "G_WNzl5wllkQ",
        "outputId": "144ee5b2-8fe2-4e39-837a-50da5e85b042"
      },
      "execution_count": 12,
      "outputs": [
        {
          "output_type": "stream",
          "name": "stdout",
          "text": [
            "2019-05-01\n",
            "2019-05-02\n",
            "2019-05-03\n"
          ]
        }
      ]
    },
    {
      "cell_type": "markdown",
      "source": [
        "* Series의 index인 날짜 확인"
      ],
      "metadata": {
        "id": "Iw471MrEsAu7"
      }
    },
    {
      "cell_type": "code",
      "source": [
        "for value in score.values:\n",
        "  print(value)"
      ],
      "metadata": {
        "colab": {
          "base_uri": "https://localhost:8080/"
        },
        "id": "w54-LuQCr4S4",
        "outputId": "a332446c-474e-4465-f379-ef0d0b9e3d98"
      },
      "execution_count": 14,
      "outputs": [
        {
          "output_type": "stream",
          "name": "stdout",
          "text": [
            "1000\n",
            "14000\n",
            "3000\n"
          ]
        }
      ]
    },
    {
      "cell_type": "markdown",
      "source": [
        "* 해당 날짜에 해당하는 팀 점수(값) 확인"
      ],
      "metadata": {
        "id": "oDCrZWQvsEXk"
      }
    },
    {
      "cell_type": "code",
      "source": [
        "gildong = Series([1500, 3000, 2500],\n",
        "                 index=['2019-05-01', '2019-05-02', '2019-05-03'])\n",
        "toto = Series([3000, 3000, 2000],\n",
        "              index = ['2019-05-01', '2019-05-03', '2019-05-02'])"
      ],
      "metadata": {
        "id": "bt-z65NRsggM"
      },
      "execution_count": 15,
      "outputs": []
    },
    {
      "cell_type": "code",
      "source": [
        "gildong"
      ],
      "metadata": {
        "colab": {
          "base_uri": "https://localhost:8080/"
        },
        "id": "S4733Oezs3Zl",
        "outputId": "f47f0a59-9e7d-46fd-85ba-8216e96e651a"
      },
      "execution_count": 16,
      "outputs": [
        {
          "output_type": "execute_result",
          "data": {
            "text/plain": [
              "2019-05-01    1500\n",
              "2019-05-02    3000\n",
              "2019-05-03    2500\n",
              "dtype: int64"
            ]
          },
          "metadata": {},
          "execution_count": 16
        }
      ]
    },
    {
      "cell_type": "code",
      "source": [
        "toto"
      ],
      "metadata": {
        "colab": {
          "base_uri": "https://localhost:8080/"
        },
        "id": "yflaYQgbs9qF",
        "outputId": "fde28d7d-d27a-4673-c585-90ea6449d621"
      },
      "execution_count": 17,
      "outputs": [
        {
          "output_type": "execute_result",
          "data": {
            "text/plain": [
              "2019-05-01    3000\n",
              "2019-05-03    3000\n",
              "2019-05-02    2000\n",
              "dtype: int64"
            ]
          },
          "metadata": {},
          "execution_count": 17
        }
      ]
    },
    {
      "cell_type": "code",
      "source": [
        "gildong+toto"
      ],
      "metadata": {
        "colab": {
          "base_uri": "https://localhost:8080/"
        },
        "id": "LdUEhkCttAt6",
        "outputId": "c5347a2c-8d46-48b6-abd5-ebb9caa10c8b"
      },
      "execution_count": 18,
      "outputs": [
        {
          "output_type": "execute_result",
          "data": {
            "text/plain": [
              "2019-05-01    4500\n",
              "2019-05-02    5000\n",
              "2019-05-03    5500\n",
              "dtype: int64"
            ]
          },
          "metadata": {},
          "execution_count": 18
        }
      ]
    },
    {
      "cell_type": "markdown",
      "source": [
        "* Index를 기준으로 값의 연산이 이루어지게 된다.\n",
        "* 같은 index를 갖는 값이 더하기 연산을 수행."
      ],
      "metadata": {
        "id": "1Nvw4jAUsHkD"
      }
    },
    {
      "cell_type": "markdown",
      "source": [
        "#### 1-5 DataFrame 객체\n",
        "##### DataFrame의 이해\n",
        "* Pandas의 Series가 1차원 형태의 자료구조라면\n",
        "* DataFrame은 여러개의 컬럼(Column)으로 구성된 2차원 형태의 자료구조"
      ],
      "metadata": {
        "id": "cDnaFCHutKST"
      }
    },
    {
      "cell_type": "markdown",
      "source": [
        "##### DataFrame 객체 생성하기\n",
        "* 데이터 프레임의 객체를 생성하는 가장 간단한 방법은 딕셔너리를 이용하는 방법\n",
        "* 데이터 프레임은 Series의 결합으로 이루어진 것으로 생각할 수 있음\n",
        "* Pandas(판다스)의 대표적인 기본 자료형"
      ],
      "metadata": {
        "id": "zxDdczCBtbqX"
      }
    },
    {
      "cell_type": "code",
      "source": [
        "from pandas import DataFrame"
      ],
      "metadata": {
        "id": "daMoINsfr8up"
      },
      "execution_count": 19,
      "outputs": []
    },
    {
      "cell_type": "code",
      "source": [
        "dat = { 'col1':[1,2,3,4],\n",
        "        'col2':[10,20,30,40],\n",
        "        'col3':['A','B','C','D'] }\n",
        "\n",
        "df = DataFrame(dat)\n",
        "df"
      ],
      "metadata": {
        "colab": {
          "base_uri": "https://localhost:8080/",
          "height": 175
        },
        "id": "glMtFPhatrH5",
        "outputId": "e4d28407-b8e9-4842-94da-7bb7054e5f66"
      },
      "execution_count": 20,
      "outputs": [
        {
          "output_type": "execute_result",
          "data": {
            "text/plain": [
              "   col1  col2 col3\n",
              "0     1    10    A\n",
              "1     2    20    B\n",
              "2     3    30    C\n",
              "3     4    40    D"
            ],
            "text/html": [
              "\n",
              "  <div id=\"df-5415b12a-ed3a-4020-9133-fbbaa0f6b895\">\n",
              "    <div class=\"colab-df-container\">\n",
              "      <div>\n",
              "<style scoped>\n",
              "    .dataframe tbody tr th:only-of-type {\n",
              "        vertical-align: middle;\n",
              "    }\n",
              "\n",
              "    .dataframe tbody tr th {\n",
              "        vertical-align: top;\n",
              "    }\n",
              "\n",
              "    .dataframe thead th {\n",
              "        text-align: right;\n",
              "    }\n",
              "</style>\n",
              "<table border=\"1\" class=\"dataframe\">\n",
              "  <thead>\n",
              "    <tr style=\"text-align: right;\">\n",
              "      <th></th>\n",
              "      <th>col1</th>\n",
              "      <th>col2</th>\n",
              "      <th>col3</th>\n",
              "    </tr>\n",
              "  </thead>\n",
              "  <tbody>\n",
              "    <tr>\n",
              "      <th>0</th>\n",
              "      <td>1</td>\n",
              "      <td>10</td>\n",
              "      <td>A</td>\n",
              "    </tr>\n",
              "    <tr>\n",
              "      <th>1</th>\n",
              "      <td>2</td>\n",
              "      <td>20</td>\n",
              "      <td>B</td>\n",
              "    </tr>\n",
              "    <tr>\n",
              "      <th>2</th>\n",
              "      <td>3</td>\n",
              "      <td>30</td>\n",
              "      <td>C</td>\n",
              "    </tr>\n",
              "    <tr>\n",
              "      <th>3</th>\n",
              "      <td>4</td>\n",
              "      <td>40</td>\n",
              "      <td>D</td>\n",
              "    </tr>\n",
              "  </tbody>\n",
              "</table>\n",
              "</div>\n",
              "      <button class=\"colab-df-convert\" onclick=\"convertToInteractive('df-5415b12a-ed3a-4020-9133-fbbaa0f6b895')\"\n",
              "              title=\"Convert this dataframe to an interactive table.\"\n",
              "              style=\"display:none;\">\n",
              "        \n",
              "  <svg xmlns=\"http://www.w3.org/2000/svg\" height=\"24px\"viewBox=\"0 0 24 24\"\n",
              "       width=\"24px\">\n",
              "    <path d=\"M0 0h24v24H0V0z\" fill=\"none\"/>\n",
              "    <path d=\"M18.56 5.44l.94 2.06.94-2.06 2.06-.94-2.06-.94-.94-2.06-.94 2.06-2.06.94zm-11 1L8.5 8.5l.94-2.06 2.06-.94-2.06-.94L8.5 2.5l-.94 2.06-2.06.94zm10 10l.94 2.06.94-2.06 2.06-.94-2.06-.94-.94-2.06-.94 2.06-2.06.94z\"/><path d=\"M17.41 7.96l-1.37-1.37c-.4-.4-.92-.59-1.43-.59-.52 0-1.04.2-1.43.59L10.3 9.45l-7.72 7.72c-.78.78-.78 2.05 0 2.83L4 21.41c.39.39.9.59 1.41.59.51 0 1.02-.2 1.41-.59l7.78-7.78 2.81-2.81c.8-.78.8-2.07 0-2.86zM5.41 20L4 18.59l7.72-7.72 1.47 1.35L5.41 20z\"/>\n",
              "  </svg>\n",
              "      </button>\n",
              "      \n",
              "  <style>\n",
              "    .colab-df-container {\n",
              "      display:flex;\n",
              "      flex-wrap:wrap;\n",
              "      gap: 12px;\n",
              "    }\n",
              "\n",
              "    .colab-df-convert {\n",
              "      background-color: #E8F0FE;\n",
              "      border: none;\n",
              "      border-radius: 50%;\n",
              "      cursor: pointer;\n",
              "      display: none;\n",
              "      fill: #1967D2;\n",
              "      height: 32px;\n",
              "      padding: 0 0 0 0;\n",
              "      width: 32px;\n",
              "    }\n",
              "\n",
              "    .colab-df-convert:hover {\n",
              "      background-color: #E2EBFA;\n",
              "      box-shadow: 0px 1px 2px rgba(60, 64, 67, 0.3), 0px 1px 3px 1px rgba(60, 64, 67, 0.15);\n",
              "      fill: #174EA6;\n",
              "    }\n",
              "\n",
              "    [theme=dark] .colab-df-convert {\n",
              "      background-color: #3B4455;\n",
              "      fill: #D2E3FC;\n",
              "    }\n",
              "\n",
              "    [theme=dark] .colab-df-convert:hover {\n",
              "      background-color: #434B5C;\n",
              "      box-shadow: 0px 1px 3px 1px rgba(0, 0, 0, 0.15);\n",
              "      filter: drop-shadow(0px 1px 2px rgba(0, 0, 0, 0.3));\n",
              "      fill: #FFFFFF;\n",
              "    }\n",
              "  </style>\n",
              "\n",
              "      <script>\n",
              "        const buttonEl =\n",
              "          document.querySelector('#df-5415b12a-ed3a-4020-9133-fbbaa0f6b895 button.colab-df-convert');\n",
              "        buttonEl.style.display =\n",
              "          google.colab.kernel.accessAllowed ? 'block' : 'none';\n",
              "\n",
              "        async function convertToInteractive(key) {\n",
              "          const element = document.querySelector('#df-5415b12a-ed3a-4020-9133-fbbaa0f6b895');\n",
              "          const dataTable =\n",
              "            await google.colab.kernel.invokeFunction('convertToInteractive',\n",
              "                                                     [key], {});\n",
              "          if (!dataTable) return;\n",
              "\n",
              "          const docLinkHtml = 'Like what you see? Visit the ' +\n",
              "            '<a target=\"_blank\" href=https://colab.research.google.com/notebooks/data_table.ipynb>data table notebook</a>'\n",
              "            + ' to learn more about interactive tables.';\n",
              "          element.innerHTML = '';\n",
              "          dataTable['output_type'] = 'display_data';\n",
              "          await google.colab.output.renderOutput(dataTable, element);\n",
              "          const docLink = document.createElement('div');\n",
              "          docLink.innerHTML = docLinkHtml;\n",
              "          element.appendChild(docLink);\n",
              "        }\n",
              "      </script>\n",
              "    </div>\n",
              "  </div>\n",
              "  "
            ]
          },
          "metadata": {},
          "execution_count": 20
        }
      ]
    },
    {
      "cell_type": "markdown",
      "source": [
        "* DataFrame을 이용하여 DataFrame 자료형 생성이 가능하며,\n",
        "* 기본적으로는 딕셔너리 형태로 객체 생성이 가능"
      ],
      "metadata": {
        "id": "_repTkZRuBkz"
      }
    },
    {
      "cell_type": "markdown",
      "source": [
        "##### DataFrame 객체 생성하기"
      ],
      "metadata": {
        "id": "o5maKJY-uJsC"
      }
    },
    {
      "cell_type": "code",
      "source": [
        "from pandas import DataFrame\n",
        "dat = { 'col1':[1,2,3,4],\n",
        "        'col2':[10,20,30,40],\n",
        "        'col3':['A','B','C','D'] }\n",
        "\n",
        "df = DataFrame(dat)\n",
        "df"
      ],
      "metadata": {
        "colab": {
          "base_uri": "https://localhost:8080/",
          "height": 175
        },
        "id": "bbdGjKYst-6Y",
        "outputId": "bd2ee66d-de73-4f62-ce2a-4b8d81277910"
      },
      "execution_count": 21,
      "outputs": [
        {
          "output_type": "execute_result",
          "data": {
            "text/plain": [
              "   col1  col2 col3\n",
              "0     1    10    A\n",
              "1     2    20    B\n",
              "2     3    30    C\n",
              "3     4    40    D"
            ],
            "text/html": [
              "\n",
              "  <div id=\"df-5c044f49-6b28-49bd-9460-fa0277c6751f\">\n",
              "    <div class=\"colab-df-container\">\n",
              "      <div>\n",
              "<style scoped>\n",
              "    .dataframe tbody tr th:only-of-type {\n",
              "        vertical-align: middle;\n",
              "    }\n",
              "\n",
              "    .dataframe tbody tr th {\n",
              "        vertical-align: top;\n",
              "    }\n",
              "\n",
              "    .dataframe thead th {\n",
              "        text-align: right;\n",
              "    }\n",
              "</style>\n",
              "<table border=\"1\" class=\"dataframe\">\n",
              "  <thead>\n",
              "    <tr style=\"text-align: right;\">\n",
              "      <th></th>\n",
              "      <th>col1</th>\n",
              "      <th>col2</th>\n",
              "      <th>col3</th>\n",
              "    </tr>\n",
              "  </thead>\n",
              "  <tbody>\n",
              "    <tr>\n",
              "      <th>0</th>\n",
              "      <td>1</td>\n",
              "      <td>10</td>\n",
              "      <td>A</td>\n",
              "    </tr>\n",
              "    <tr>\n",
              "      <th>1</th>\n",
              "      <td>2</td>\n",
              "      <td>20</td>\n",
              "      <td>B</td>\n",
              "    </tr>\n",
              "    <tr>\n",
              "      <th>2</th>\n",
              "      <td>3</td>\n",
              "      <td>30</td>\n",
              "      <td>C</td>\n",
              "    </tr>\n",
              "    <tr>\n",
              "      <th>3</th>\n",
              "      <td>4</td>\n",
              "      <td>40</td>\n",
              "      <td>D</td>\n",
              "    </tr>\n",
              "  </tbody>\n",
              "</table>\n",
              "</div>\n",
              "      <button class=\"colab-df-convert\" onclick=\"convertToInteractive('df-5c044f49-6b28-49bd-9460-fa0277c6751f')\"\n",
              "              title=\"Convert this dataframe to an interactive table.\"\n",
              "              style=\"display:none;\">\n",
              "        \n",
              "  <svg xmlns=\"http://www.w3.org/2000/svg\" height=\"24px\"viewBox=\"0 0 24 24\"\n",
              "       width=\"24px\">\n",
              "    <path d=\"M0 0h24v24H0V0z\" fill=\"none\"/>\n",
              "    <path d=\"M18.56 5.44l.94 2.06.94-2.06 2.06-.94-2.06-.94-.94-2.06-.94 2.06-2.06.94zm-11 1L8.5 8.5l.94-2.06 2.06-.94-2.06-.94L8.5 2.5l-.94 2.06-2.06.94zm10 10l.94 2.06.94-2.06 2.06-.94-2.06-.94-.94-2.06-.94 2.06-2.06.94z\"/><path d=\"M17.41 7.96l-1.37-1.37c-.4-.4-.92-.59-1.43-.59-.52 0-1.04.2-1.43.59L10.3 9.45l-7.72 7.72c-.78.78-.78 2.05 0 2.83L4 21.41c.39.39.9.59 1.41.59.51 0 1.02-.2 1.41-.59l7.78-7.78 2.81-2.81c.8-.78.8-2.07 0-2.86zM5.41 20L4 18.59l7.72-7.72 1.47 1.35L5.41 20z\"/>\n",
              "  </svg>\n",
              "      </button>\n",
              "      \n",
              "  <style>\n",
              "    .colab-df-container {\n",
              "      display:flex;\n",
              "      flex-wrap:wrap;\n",
              "      gap: 12px;\n",
              "    }\n",
              "\n",
              "    .colab-df-convert {\n",
              "      background-color: #E8F0FE;\n",
              "      border: none;\n",
              "      border-radius: 50%;\n",
              "      cursor: pointer;\n",
              "      display: none;\n",
              "      fill: #1967D2;\n",
              "      height: 32px;\n",
              "      padding: 0 0 0 0;\n",
              "      width: 32px;\n",
              "    }\n",
              "\n",
              "    .colab-df-convert:hover {\n",
              "      background-color: #E2EBFA;\n",
              "      box-shadow: 0px 1px 2px rgba(60, 64, 67, 0.3), 0px 1px 3px 1px rgba(60, 64, 67, 0.15);\n",
              "      fill: #174EA6;\n",
              "    }\n",
              "\n",
              "    [theme=dark] .colab-df-convert {\n",
              "      background-color: #3B4455;\n",
              "      fill: #D2E3FC;\n",
              "    }\n",
              "\n",
              "    [theme=dark] .colab-df-convert:hover {\n",
              "      background-color: #434B5C;\n",
              "      box-shadow: 0px 1px 3px 1px rgba(0, 0, 0, 0.15);\n",
              "      filter: drop-shadow(0px 1px 2px rgba(0, 0, 0, 0.3));\n",
              "      fill: #FFFFFF;\n",
              "    }\n",
              "  </style>\n",
              "\n",
              "      <script>\n",
              "        const buttonEl =\n",
              "          document.querySelector('#df-5c044f49-6b28-49bd-9460-fa0277c6751f button.colab-df-convert');\n",
              "        buttonEl.style.display =\n",
              "          google.colab.kernel.accessAllowed ? 'block' : 'none';\n",
              "\n",
              "        async function convertToInteractive(key) {\n",
              "          const element = document.querySelector('#df-5c044f49-6b28-49bd-9460-fa0277c6751f');\n",
              "          const dataTable =\n",
              "            await google.colab.kernel.invokeFunction('convertToInteractive',\n",
              "                                                     [key], {});\n",
              "          if (!dataTable) return;\n",
              "\n",
              "          const docLinkHtml = 'Like what you see? Visit the ' +\n",
              "            '<a target=\"_blank\" href=https://colab.research.google.com/notebooks/data_table.ipynb>data table notebook</a>'\n",
              "            + ' to learn more about interactive tables.';\n",
              "          element.innerHTML = '';\n",
              "          dataTable['output_type'] = 'display_data';\n",
              "          await google.colab.output.renderOutput(dataTable, element);\n",
              "          const docLink = document.createElement('div');\n",
              "          docLink.innerHTML = docLinkHtml;\n",
              "          element.appendChild(docLink);\n",
              "        }\n",
              "      </script>\n",
              "    </div>\n",
              "  </div>\n",
              "  "
            ]
          },
          "metadata": {},
          "execution_count": 21
        }
      ]
    },
    {
      "cell_type": "markdown",
      "source": [
        "##### DataFrame의 column(열) 데이터 출력하기"
      ],
      "metadata": {
        "id": "A356esZPuT-X"
      }
    },
    {
      "cell_type": "code",
      "source": [
        "print(dat['col1'])"
      ],
      "metadata": {
        "colab": {
          "base_uri": "https://localhost:8080/"
        },
        "id": "UeKc4dFsuQ2m",
        "outputId": "a21f998e-bc53-44cd-8586-5fd9f4ce05ee"
      },
      "execution_count": 23,
      "outputs": [
        {
          "output_type": "stream",
          "name": "stdout",
          "text": [
            "[1, 2, 3, 4]\n"
          ]
        }
      ]
    },
    {
      "cell_type": "markdown",
      "source": [
        "* DataFrame 객체는 'col1', 'col2', 'col3'의 세 개의 Series 객체로 구성된다.\n",
        "* Series 객체의 index는 서로 동일하다."
      ],
      "metadata": {
        "id": "EsPi7_awupSF"
      }
    },
    {
      "cell_type": "code",
      "source": [
        "from pandas import DataFrame\n",
        "\n",
        "team_score = { \"toto\":[1500, 3000, 5000, 7000, 5500],\n",
        "              \"gildong\":[2000, 2500, 3000, 4000, 3000],\n",
        "              \"apple\":[4000, 5000, 6000, 5500, 4500],\n",
        "              \"catanddog\":[7000, 5000, 3000, 5000, 4000] }\n",
        "\n",
        "team_df = DataFrame(team_score)\n",
        "team_df"
      ],
      "metadata": {
        "colab": {
          "base_uri": "https://localhost:8080/",
          "height": 206
        },
        "id": "ijc3SdY1uY99",
        "outputId": "ae5a6725-18fb-41d6-b3e1-8e739e8574f2"
      },
      "execution_count": 25,
      "outputs": [
        {
          "output_type": "execute_result",
          "data": {
            "text/plain": [
              "   toto  gildong  apple  catanddog\n",
              "0  1500     2000   4000       7000\n",
              "1  3000     2500   5000       5000\n",
              "2  5000     3000   6000       3000\n",
              "3  7000     4000   5500       5000\n",
              "4  5500     3000   4500       4000"
            ],
            "text/html": [
              "\n",
              "  <div id=\"df-5fd72c3d-5e9a-43d8-be86-fc5cc6b693ab\">\n",
              "    <div class=\"colab-df-container\">\n",
              "      <div>\n",
              "<style scoped>\n",
              "    .dataframe tbody tr th:only-of-type {\n",
              "        vertical-align: middle;\n",
              "    }\n",
              "\n",
              "    .dataframe tbody tr th {\n",
              "        vertical-align: top;\n",
              "    }\n",
              "\n",
              "    .dataframe thead th {\n",
              "        text-align: right;\n",
              "    }\n",
              "</style>\n",
              "<table border=\"1\" class=\"dataframe\">\n",
              "  <thead>\n",
              "    <tr style=\"text-align: right;\">\n",
              "      <th></th>\n",
              "      <th>toto</th>\n",
              "      <th>gildong</th>\n",
              "      <th>apple</th>\n",
              "      <th>catanddog</th>\n",
              "    </tr>\n",
              "  </thead>\n",
              "  <tbody>\n",
              "    <tr>\n",
              "      <th>0</th>\n",
              "      <td>1500</td>\n",
              "      <td>2000</td>\n",
              "      <td>4000</td>\n",
              "      <td>7000</td>\n",
              "    </tr>\n",
              "    <tr>\n",
              "      <th>1</th>\n",
              "      <td>3000</td>\n",
              "      <td>2500</td>\n",
              "      <td>5000</td>\n",
              "      <td>5000</td>\n",
              "    </tr>\n",
              "    <tr>\n",
              "      <th>2</th>\n",
              "      <td>5000</td>\n",
              "      <td>3000</td>\n",
              "      <td>6000</td>\n",
              "      <td>3000</td>\n",
              "    </tr>\n",
              "    <tr>\n",
              "      <th>3</th>\n",
              "      <td>7000</td>\n",
              "      <td>4000</td>\n",
              "      <td>5500</td>\n",
              "      <td>5000</td>\n",
              "    </tr>\n",
              "    <tr>\n",
              "      <th>4</th>\n",
              "      <td>5500</td>\n",
              "      <td>3000</td>\n",
              "      <td>4500</td>\n",
              "      <td>4000</td>\n",
              "    </tr>\n",
              "  </tbody>\n",
              "</table>\n",
              "</div>\n",
              "      <button class=\"colab-df-convert\" onclick=\"convertToInteractive('df-5fd72c3d-5e9a-43d8-be86-fc5cc6b693ab')\"\n",
              "              title=\"Convert this dataframe to an interactive table.\"\n",
              "              style=\"display:none;\">\n",
              "        \n",
              "  <svg xmlns=\"http://www.w3.org/2000/svg\" height=\"24px\"viewBox=\"0 0 24 24\"\n",
              "       width=\"24px\">\n",
              "    <path d=\"M0 0h24v24H0V0z\" fill=\"none\"/>\n",
              "    <path d=\"M18.56 5.44l.94 2.06.94-2.06 2.06-.94-2.06-.94-.94-2.06-.94 2.06-2.06.94zm-11 1L8.5 8.5l.94-2.06 2.06-.94-2.06-.94L8.5 2.5l-.94 2.06-2.06.94zm10 10l.94 2.06.94-2.06 2.06-.94-2.06-.94-.94-2.06-.94 2.06-2.06.94z\"/><path d=\"M17.41 7.96l-1.37-1.37c-.4-.4-.92-.59-1.43-.59-.52 0-1.04.2-1.43.59L10.3 9.45l-7.72 7.72c-.78.78-.78 2.05 0 2.83L4 21.41c.39.39.9.59 1.41.59.51 0 1.02-.2 1.41-.59l7.78-7.78 2.81-2.81c.8-.78.8-2.07 0-2.86zM5.41 20L4 18.59l7.72-7.72 1.47 1.35L5.41 20z\"/>\n",
              "  </svg>\n",
              "      </button>\n",
              "      \n",
              "  <style>\n",
              "    .colab-df-container {\n",
              "      display:flex;\n",
              "      flex-wrap:wrap;\n",
              "      gap: 12px;\n",
              "    }\n",
              "\n",
              "    .colab-df-convert {\n",
              "      background-color: #E8F0FE;\n",
              "      border: none;\n",
              "      border-radius: 50%;\n",
              "      cursor: pointer;\n",
              "      display: none;\n",
              "      fill: #1967D2;\n",
              "      height: 32px;\n",
              "      padding: 0 0 0 0;\n",
              "      width: 32px;\n",
              "    }\n",
              "\n",
              "    .colab-df-convert:hover {\n",
              "      background-color: #E2EBFA;\n",
              "      box-shadow: 0px 1px 2px rgba(60, 64, 67, 0.3), 0px 1px 3px 1px rgba(60, 64, 67, 0.15);\n",
              "      fill: #174EA6;\n",
              "    }\n",
              "\n",
              "    [theme=dark] .colab-df-convert {\n",
              "      background-color: #3B4455;\n",
              "      fill: #D2E3FC;\n",
              "    }\n",
              "\n",
              "    [theme=dark] .colab-df-convert:hover {\n",
              "      background-color: #434B5C;\n",
              "      box-shadow: 0px 1px 3px 1px rgba(0, 0, 0, 0.15);\n",
              "      filter: drop-shadow(0px 1px 2px rgba(0, 0, 0, 0.3));\n",
              "      fill: #FFFFFF;\n",
              "    }\n",
              "  </style>\n",
              "\n",
              "      <script>\n",
              "        const buttonEl =\n",
              "          document.querySelector('#df-5fd72c3d-5e9a-43d8-be86-fc5cc6b693ab button.colab-df-convert');\n",
              "        buttonEl.style.display =\n",
              "          google.colab.kernel.accessAllowed ? 'block' : 'none';\n",
              "\n",
              "        async function convertToInteractive(key) {\n",
              "          const element = document.querySelector('#df-5fd72c3d-5e9a-43d8-be86-fc5cc6b693ab');\n",
              "          const dataTable =\n",
              "            await google.colab.kernel.invokeFunction('convertToInteractive',\n",
              "                                                     [key], {});\n",
              "          if (!dataTable) return;\n",
              "\n",
              "          const docLinkHtml = 'Like what you see? Visit the ' +\n",
              "            '<a target=\"_blank\" href=https://colab.research.google.com/notebooks/data_table.ipynb>data table notebook</a>'\n",
              "            + ' to learn more about interactive tables.';\n",
              "          element.innerHTML = '';\n",
              "          dataTable['output_type'] = 'display_data';\n",
              "          await google.colab.output.renderOutput(dataTable, element);\n",
              "          const docLink = document.createElement('div');\n",
              "          docLink.innerHTML = docLinkHtml;\n",
              "          element.appendChild(docLink);\n",
              "        }\n",
              "      </script>\n",
              "    </div>\n",
              "  </div>\n",
              "  "
            ]
          },
          "metadata": {},
          "execution_count": 25
        }
      ]
    },
    {
      "cell_type": "markdown",
      "source": [
        "* 파이썬 딕셔너리 형태로 각 컬럼은 데이터로 저장이 가능하다.\n",
        "* DataFrame클래스의 생성자로 넘겨준다.\n",
        "* 컬럼의 순서가 다른 경우, columns를 이용하여 컬럼의 순서를 지정할 수 있다."
      ],
      "metadata": {
        "id": "HUHvE8pWvslK"
      }
    },
    {
      "cell_type": "code",
      "source": [
        "date = ['19-05-01', '19-05-02', '19-05-03', '19-05-04', '19-05-05']\n",
        "team_df = DataFrame(team_score,\n",
        "                    columns=['catanddog', 'toto', 'apple', 'gildong'],\n",
        "                    index=date )\n",
        "\n",
        "team_df"
      ],
      "metadata": {
        "colab": {
          "base_uri": "https://localhost:8080/",
          "height": 206
        },
        "id": "WMUAA6fvvZZ0",
        "outputId": "4cfa6417-398c-40bc-b459-c5bca343d970"
      },
      "execution_count": 29,
      "outputs": [
        {
          "output_type": "execute_result",
          "data": {
            "text/plain": [
              "          catanddog  toto  apple  gildong\n",
              "19-05-01       7000  1500   4000     2000\n",
              "19-05-02       5000  3000   5000     2500\n",
              "19-05-03       3000  5000   6000     3000\n",
              "19-05-04       5000  7000   5500     4000\n",
              "19-05-05       4000  5500   4500     3000"
            ],
            "text/html": [
              "\n",
              "  <div id=\"df-f4e1c1dd-cb95-4473-8eef-faab1307a326\">\n",
              "    <div class=\"colab-df-container\">\n",
              "      <div>\n",
              "<style scoped>\n",
              "    .dataframe tbody tr th:only-of-type {\n",
              "        vertical-align: middle;\n",
              "    }\n",
              "\n",
              "    .dataframe tbody tr th {\n",
              "        vertical-align: top;\n",
              "    }\n",
              "\n",
              "    .dataframe thead th {\n",
              "        text-align: right;\n",
              "    }\n",
              "</style>\n",
              "<table border=\"1\" class=\"dataframe\">\n",
              "  <thead>\n",
              "    <tr style=\"text-align: right;\">\n",
              "      <th></th>\n",
              "      <th>catanddog</th>\n",
              "      <th>toto</th>\n",
              "      <th>apple</th>\n",
              "      <th>gildong</th>\n",
              "    </tr>\n",
              "  </thead>\n",
              "  <tbody>\n",
              "    <tr>\n",
              "      <th>19-05-01</th>\n",
              "      <td>7000</td>\n",
              "      <td>1500</td>\n",
              "      <td>4000</td>\n",
              "      <td>2000</td>\n",
              "    </tr>\n",
              "    <tr>\n",
              "      <th>19-05-02</th>\n",
              "      <td>5000</td>\n",
              "      <td>3000</td>\n",
              "      <td>5000</td>\n",
              "      <td>2500</td>\n",
              "    </tr>\n",
              "    <tr>\n",
              "      <th>19-05-03</th>\n",
              "      <td>3000</td>\n",
              "      <td>5000</td>\n",
              "      <td>6000</td>\n",
              "      <td>3000</td>\n",
              "    </tr>\n",
              "    <tr>\n",
              "      <th>19-05-04</th>\n",
              "      <td>5000</td>\n",
              "      <td>7000</td>\n",
              "      <td>5500</td>\n",
              "      <td>4000</td>\n",
              "    </tr>\n",
              "    <tr>\n",
              "      <th>19-05-05</th>\n",
              "      <td>4000</td>\n",
              "      <td>5500</td>\n",
              "      <td>4500</td>\n",
              "      <td>3000</td>\n",
              "    </tr>\n",
              "  </tbody>\n",
              "</table>\n",
              "</div>\n",
              "      <button class=\"colab-df-convert\" onclick=\"convertToInteractive('df-f4e1c1dd-cb95-4473-8eef-faab1307a326')\"\n",
              "              title=\"Convert this dataframe to an interactive table.\"\n",
              "              style=\"display:none;\">\n",
              "        \n",
              "  <svg xmlns=\"http://www.w3.org/2000/svg\" height=\"24px\"viewBox=\"0 0 24 24\"\n",
              "       width=\"24px\">\n",
              "    <path d=\"M0 0h24v24H0V0z\" fill=\"none\"/>\n",
              "    <path d=\"M18.56 5.44l.94 2.06.94-2.06 2.06-.94-2.06-.94-.94-2.06-.94 2.06-2.06.94zm-11 1L8.5 8.5l.94-2.06 2.06-.94-2.06-.94L8.5 2.5l-.94 2.06-2.06.94zm10 10l.94 2.06.94-2.06 2.06-.94-2.06-.94-.94-2.06-.94 2.06-2.06.94z\"/><path d=\"M17.41 7.96l-1.37-1.37c-.4-.4-.92-.59-1.43-.59-.52 0-1.04.2-1.43.59L10.3 9.45l-7.72 7.72c-.78.78-.78 2.05 0 2.83L4 21.41c.39.39.9.59 1.41.59.51 0 1.02-.2 1.41-.59l7.78-7.78 2.81-2.81c.8-.78.8-2.07 0-2.86zM5.41 20L4 18.59l7.72-7.72 1.47 1.35L5.41 20z\"/>\n",
              "  </svg>\n",
              "      </button>\n",
              "      \n",
              "  <style>\n",
              "    .colab-df-container {\n",
              "      display:flex;\n",
              "      flex-wrap:wrap;\n",
              "      gap: 12px;\n",
              "    }\n",
              "\n",
              "    .colab-df-convert {\n",
              "      background-color: #E8F0FE;\n",
              "      border: none;\n",
              "      border-radius: 50%;\n",
              "      cursor: pointer;\n",
              "      display: none;\n",
              "      fill: #1967D2;\n",
              "      height: 32px;\n",
              "      padding: 0 0 0 0;\n",
              "      width: 32px;\n",
              "    }\n",
              "\n",
              "    .colab-df-convert:hover {\n",
              "      background-color: #E2EBFA;\n",
              "      box-shadow: 0px 1px 2px rgba(60, 64, 67, 0.3), 0px 1px 3px 1px rgba(60, 64, 67, 0.15);\n",
              "      fill: #174EA6;\n",
              "    }\n",
              "\n",
              "    [theme=dark] .colab-df-convert {\n",
              "      background-color: #3B4455;\n",
              "      fill: #D2E3FC;\n",
              "    }\n",
              "\n",
              "    [theme=dark] .colab-df-convert:hover {\n",
              "      background-color: #434B5C;\n",
              "      box-shadow: 0px 1px 3px 1px rgba(0, 0, 0, 0.15);\n",
              "      filter: drop-shadow(0px 1px 2px rgba(0, 0, 0, 0.3));\n",
              "      fill: #FFFFFF;\n",
              "    }\n",
              "  </style>\n",
              "\n",
              "      <script>\n",
              "        const buttonEl =\n",
              "          document.querySelector('#df-f4e1c1dd-cb95-4473-8eef-faab1307a326 button.colab-df-convert');\n",
              "        buttonEl.style.display =\n",
              "          google.colab.kernel.accessAllowed ? 'block' : 'none';\n",
              "\n",
              "        async function convertToInteractive(key) {\n",
              "          const element = document.querySelector('#df-f4e1c1dd-cb95-4473-8eef-faab1307a326');\n",
              "          const dataTable =\n",
              "            await google.colab.kernel.invokeFunction('convertToInteractive',\n",
              "                                                     [key], {});\n",
              "          if (!dataTable) return;\n",
              "\n",
              "          const docLinkHtml = 'Like what you see? Visit the ' +\n",
              "            '<a target=\"_blank\" href=https://colab.research.google.com/notebooks/data_table.ipynb>data table notebook</a>'\n",
              "            + ' to learn more about interactive tables.';\n",
              "          element.innerHTML = '';\n",
              "          dataTable['output_type'] = 'display_data';\n",
              "          await google.colab.output.renderOutput(dataTable, element);\n",
              "          const docLink = document.createElement('div');\n",
              "          docLink.innerHTML = docLinkHtml;\n",
              "          element.appendChild(docLink);\n",
              "        }\n",
              "      </script>\n",
              "    </div>\n",
              "  </div>\n",
              "  "
            ]
          },
          "metadata": {},
          "execution_count": 29
        }
      ]
    },
    {
      "cell_type": "markdown",
      "source": [
        "* Dataframe 객체는 'catanddog', 'toto', 'apple', 'gildong'의 Series 객체로 구성된다.\n",
        "* Series 객체의 인덱스는 date(날짜)로 서로 동일하다."
      ],
      "metadata": {
        "id": "M_QP-bHkwkXo"
      }
    }
  ]
}