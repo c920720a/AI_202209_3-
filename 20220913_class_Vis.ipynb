{
 "cells": [
  {
   "cell_type": "markdown",
   "metadata": {},
   "source": [
    "## 시각화 라이브러리"
   ]
  },
  {
   "cell_type": "markdown",
   "metadata": {},
   "source": [
    "### 1-1 시각화 라이브러리\n",
    "1. matplotlib : https://matplotlib.org/\n",
    "2. seaborn : https://seaborn.pydata.org/\n",
    "3. folium : https://python-visualization.github.io/folium/\n",
    "4. plot.ly : https://plotly.com/python/\n",
    "5. Bokeh : https://docs.bokeh.org/en/latest/index.html\n",
    "6. plotnine : https://plotnine.readthedocs.io/en/stable/\n",
    "7. pyecharts : https://github.com/pyecharts/pyecharts\n",
    "8. pandas : https://pandas.pydata.org/pandas-docs/stable/user_guide/visualization.html\n",
    "9. pygal : https://www.pygal.org/en/latest/index.html\n",
    "10. gleam : https://github.com/dgrtwo/gleam"
   ]
  },
  {
   "cell_type": "markdown",
   "metadata": {},
   "source": [
    "### 1-2 matplotlib\n",
    "1. 파이썬에서 가장 많이 사용되는 라이브러리 중 하나\n",
    "2. 가장 다양한 방식과 형태의 그래프를 그릴 수 있다.\n",
    "3. 실제 분석에서 기본적으로 matplotlib, seaborn을 활용하여 많이 사용되고 있다."
   ]
  },
  {
   "cell_type": "markdown",
   "metadata": {},
   "source": [
    "### 1-3 seaborn\n",
    "1. matplotlib을 기반으로 만들어진 라이브러리 : 다양한 색 테마, 차트 기능을 추가한 라이브러리\n",
    "2. 단 몇 줄의 코드로 좀 더 세련된 시각화가 가능함.\n",
    "3. 기본 데이터 셋은 Pandas 데이터 이용\n",
    "4. 제공되지 않는 세부적인 추가 기능은 matplotlib을 사용하여 해결\n",
    "5. seborn tutorial : https://seaborn.pydata.org/tutorial.html"
   ]
  },
  {
   "cell_type": "markdown",
   "metadata": {},
   "source": [
    "### 1-3-1 seaborn 그래프 분류\n",
    "1. relational plots\n",
    "       1-1. relplot, scatterplot, lineplot\n",
    "       1-2. 두 변수(x, y)의 관계를 나타내기 위한 그래프\n",
    "2. destribution plots\n",
    "       1-1. displot, hisplot, kdeplot, ecdfplot, rugplot, displot\n",
    "       1-2. 변수 하나(x or y) 혹은 변수 두 개(x, y)의 값의 분포를 나타내기 위함.\n",
    "3. categorical plots\n",
    "       1-1 catplot, stripplot, swarmplot, boxplot, violinplot, boxenplot, pointplot, barplot, countplot\n",
    "       1-2 범주형 변수와 연속형 변수 간의 관곌르 나타내기 위한 그래프\n",
    "4. regression plots\n",
    "       1-1 implot, regplot, residplot\n",
    "       1-2 회귀(regression) 분석 결과를 relational plots와 함께 나타내주는 그래프\n",
    "5. multi-plot-grids\n",
    "       1-1 facetgrid, pairplot, pairgrid, jointplot, jointgrid\n",
    "       1-2 여러 그래프를 함께 그려 한 눈에 비교하기 위한 그래프"
   ]
  },
  {
   "cell_type": "markdown",
   "metadata": {},
   "source": [
    "### 1-4 folium\n",
    "1. 지도 시각화를 위한 라이브러리\n",
    "2. 지도 데이터에 자바스크립트 라이브러리 leftlet.js을 이용하여 위치정보를 시각화하는 라이브러리\n",
    "3. 자바스크립트 기반"
   ]
  },
  {
   "cell_type": "markdown",
   "metadata": {},
   "source": [
    "### 1-5 Plot.ly\n",
    "1. 대표적인 Interactive 그래프를 그려주는 라이브러리.\n",
    "2. 시각화를 위해 D3.js라는 프로그램을 사용\n",
    "3. matplotlib과 seaborn에 비해 조금 세련화된 시각화 이미지\n",
    "4. scala, R, Python, Javascript, MATLAB 등 다양한 언어 사용 가능"
   ]
  },
  {
   "cell_type": "markdown",
   "metadata": {},
   "source": [
    "### 1-6 bokeh\n",
    "1. 웹 브라우저 상에서의 시각화가 효과적인 인터렉티브 라이브러리\n",
    "2. Bokeh는 Django 및 Flask와 같은 Python 웹 프레임워크와도 완벽하게 호환\n",
    "3. JSON 개체를 쉽게 출력할 수 있는 웹 지원 플롯을 생성"
   ]
  },
  {
   "cell_type": "markdown",
   "metadata": {},
   "source": [
    "### 1-7 Plotnine\n",
    "1. R의 ggplot2의 문법에 기반해 그래프를 그려볼 수 있는 라이브러리"
   ]
  },
  {
   "cell_type": "markdown",
   "metadata": {},
   "source": [
    "### 1-8 Pyecharts\n",
    "1. Baidu에서 데이터 시각화를 위해 만든 Echarts.js의 파이썬 버전\n",
    "2. 자바스크립트 기반"
   ]
  },
  {
   "cell_type": "markdown",
   "metadata": {},
   "source": [
    "### 1-9 pygal\n",
    "1. Bokeh 및 Plotly와 마찬가지로 Pygal은 웹 브라우저에 포함할 수 있음.\n",
    "2. 차별화 요소는 차트를 SVG로 출력하는 기능 : 수십만개의 데이터 포인트로 차트 만들 경우, 렌더링 문제가 발생하고 느려짐."
   ]
  },
  {
   "cell_type": "markdown",
   "metadata": {},
   "source": [
    "### 1-10 gleam\n",
    "1. R의 shiny 패키지에서 영감을 받아 개발\n",
    "2. plot을 만든 후 사용자가 데이터를 필터링하고 정렬할 수 있음."
   ]
  },
  {
   "cell_type": "markdown",
   "metadata": {},
   "source": [
    "#### REF\n",
    "1. Matplotlib Turorial - wiki북스 : https://wikidocs.net/book/5011\n",
    "2. From Data to Viz : https://www.data-to-viz.com/\n",
    "3. 12Python Data Visualization Libraries to Explore for Business : https://mode.com/blog/python-data-visualization-libraries/"
   ]
  }
 ],
 "metadata": {
  "kernelspec": {
   "display_name": "Python 3",
   "language": "python",
   "name": "python3"
  },
  "language_info": {
   "codemirror_mode": {
    "name": "ipython",
    "version": 3
   },
   "file_extension": ".py",
   "mimetype": "text/x-python",
   "name": "python",
   "nbconvert_exporter": "python",
   "pygments_lexer": "ipython3",
   "version": "3.8.5"
  }
 },
 "nbformat": 4,
 "nbformat_minor": 4
}
