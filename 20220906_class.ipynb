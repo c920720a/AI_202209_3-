{
 "cells": [
  {
   "cell_type": "markdown",
   "metadata": {},
   "source": [
    "### 01. 지난 시간 REVIEW"
   ]
  },
  {
   "cell_type": "markdown",
   "metadata": {},
   "source": [
    "### 02. Github 계정 유무, 계정 공유"
   ]
  },
  {
   "cell_type": "markdown",
   "metadata": {},
   "source": [
    "### 03. 점프 투 파이썬 안내\n",
    "* 이번 주는 점프 투 파이썬에 기본 시간 투자 해볼 것을 권장."
   ]
  },
  {
   "cell_type": "markdown",
   "metadata": {},
   "source": [
    "### 04. Python 기본 RRVIEW 및 질의응답\n",
    "* matplotlib과 seaborn이 거의 같은 역할을 수행하는 것 같은데 차이는?\n",
    "* matplotlib이 seaborn을 포함하는 개념이다."
   ]
  },
  {
   "cell_type": "markdown",
   "metadata": {},
   "source": [
    "### 05. Kaggle 대회 경험 유무 확인\n",
    "* 전원 NO\n",
    "* 튜토리얼이나 유익한 포스팅이 많아서 그 부분만 참고한다. (태찬)"
   ]
  },
  {
   "cell_type": "markdown",
   "metadata": {},
   "source": [
    "### 06. Google Colab 준비 : def 함수"
   ]
  },
  {
   "cell_type": "code",
   "execution_count": 1,
   "metadata": {},
   "outputs": [],
   "source": [
    "def two_op(a,b):\n",
    "  num1 = a+b\n",
    "  num2 = a-b\n",
    "  num3 = a*b\n",
    "  num4 = a/b\n",
    "  return num1, num2, num3, num4"
   ]
  },
  {
   "cell_type": "code",
   "execution_count": 2,
   "metadata": {},
   "outputs": [
    {
     "name": "stdout",
     "output_type": "stream",
     "text": [
      "더하기 : 8\n",
      "빼기   : -2\n",
      "곱하기 : 15\n",
      "나누기 : 0.6\n"
     ]
    }
   ],
   "source": [
    "a = 3\n",
    "b = 5\n",
    "r1, r2, r3, r4 = two_op(a,b)\n",
    "print(\"더하기 :\", r1)\n",
    "print(\"빼기   :\", r2)\n",
    "print(\"곱하기 :\", r3)\n",
    "print(\"나누기 :\", r4)"
   ]
  },
  {
   "cell_type": "markdown",
   "metadata": {},
   "source": [
    "#### 2-2 (실습)  몫, 나머지, 제곱을 넘겨주는 함수를 만들어서 구현해보자.(댓글)"
   ]
  },
  {
   "cell_type": "code",
   "execution_count": 4,
   "metadata": {},
   "outputs": [
    {
     "name": "stdout",
     "output_type": "stream",
     "text": [
      "더하기 : 8\n",
      "빼기   : -2\n",
      "곱하기 : 15\n",
      "나누기 : 0.6\n",
      "몫 : 0\n",
      "나머지 : 3\n",
      "제곱 : 243\n"
     ]
    }
   ],
   "source": [
    "def two_op(a,b):\n",
    "  num1 = a+b\n",
    "  num2 = a-b\n",
    "  num3 = a*b\n",
    "  num4 = a/b\n",
    "  num5 = a//b\n",
    "  num6 = a%b\n",
    "  num7 = a**b\n",
    "  return num1, num2, num3, num4, num5, num6, num7\n",
    "a = 3\n",
    "b = 5\n",
    "r1, r2, r3, r4, r5, r6, r7 = two_op(a,b)\n",
    "print(\"더하기 :\", r1)\n",
    "print(\"빼기   :\", r2)\n",
    "print(\"곱하기 :\", r3)\n",
    "print(\"나누기 :\", r4)\n",
    "print(\"몫 :\", r5)\n",
    "print(\"나머지 :\", r6)\n",
    "print(\"제곱 :\", r7)"
   ]
  },
  {
   "cell_type": "markdown",
   "metadata": {},
   "source": [
    "#### 2-3 (추가 실습) 개수와 상관없이 여러개를 값을 전달받아, 전체 내용을 더해서 값을 돌려주는 함수를 작성해 보자."
   ]
  },
  {
   "cell_type": "code",
   "execution_count": 5,
   "metadata": {},
   "outputs": [],
   "source": [
    "def mul_op(*args):\n",
    "  sum = 0\n",
    "  for i in args:\n",
    "    sum = sum + i  # sum += i\n",
    "  return sum"
   ]
  },
  {
   "cell_type": "code",
   "execution_count": 6,
   "metadata": {},
   "outputs": [
    {
     "data": {
      "text/plain": [
       "6"
      ]
     },
     "execution_count": 6,
     "metadata": {},
     "output_type": "execute_result"
    }
   ],
   "source": [
    "mul_op(1,2,3)"
   ]
  },
  {
   "cell_type": "markdown",
   "metadata": {},
   "source": [
    "#### 2-4 [추가과제] 2-3에 args가 10개 이상이면 에러띄우기"
   ]
  },
  {
   "cell_type": "code",
   "execution_count": 7,
   "metadata": {},
   "outputs": [],
   "source": [
    "def mul_op2(*a):\n",
    "  sum = 0\n",
    "  for i  in a:\n",
    "    sum += i\n",
    "  if len(a) >= 10:\n",
    "    print(\"Error\")\n",
    "  else:\n",
    "    return sum"
   ]
  },
  {
   "cell_type": "markdown",
   "metadata": {},
   "source": [
    "### 07. Colab 환경에서 모듈 추가하고, 삭제해보기"
   ]
  },
  {
   "cell_type": "markdown",
   "metadata": {},
   "source": [
    "01. 2-5 mymod.py 만들기\n",
    "02. 2-6 colab에 업로드 하기\n",
    "03. \n",
    "          default_a = -9999\n",
    "\n",
    "          def mul_op(*args):\n",
    "             sum = 0\n",
    "             for i in args:\n",
    "                sum = sum + i\n",
    "             return sum\n",
    "\n",
    "          class Cal:\n",
    "             pass"
   ]
  },
  {
   "cell_type": "markdown",
   "metadata": {},
   "source": [
    "* 질문 : 그렇다면 모듈 ⊂ 라이브러리 ⊂ 프레임워크 라고 생각해도 되나요?\n",
    "* 답 : No. 추가설명은 다음 시간."
   ]
  },
  {
   "cell_type": "markdown",
   "metadata": {},
   "source": [
    "       import os\n",
    "\n",
    "       # 현재 위치 확인\n",
    "       print(  os.getcwd()  )"
   ]
  },
  {
   "cell_type": "markdown",
   "metadata": {},
   "source": [
    "       # 현재 위치의 디렉터리 및 파일 확인\n",
    "       print(  os.listdir()  )"
   ]
  },
  {
   "cell_type": "markdown",
   "metadata": {},
   "source": [
    "       # 현재 위치에 새로운 디렉터리 만들기\n",
    "       print(  os.mkdir(\"mydir\")  )\n",
    "       print(  os.listdir()  )"
   ]
  },
  {
   "cell_type": "markdown",
   "metadata": {},
   "source": [
    "       # 현재 위치에 디렉터리 삭제\n",
    "       print(  os.rmdir(\"mydir\")  )\n",
    "       print(  os.listdir()  )"
   ]
  },
  {
   "cell_type": "markdown",
   "metadata": {},
   "source": [
    "#### 2-9 [실습] 하나의 디렉터리를 만들고 확인(댓글)"
   ]
  },
  {
   "cell_type": "markdown",
   "metadata": {},
   "source": [
    "       print(os.mkdir(\"mydir\"))\n",
    "       print(os.listdir())"
   ]
  },
  {
   "cell_type": "markdown",
   "metadata": {},
   "source": [
    "#### 2-10 [실습] 디렉터리를 삭제 후, 확인(댓글)"
   ]
  },
  {
   "cell_type": "markdown",
   "metadata": {},
   "source": [
    "       print(os.rmdir(\"mydir\"))\n",
    "       print(os.listdir())"
   ]
  },
  {
   "cell_type": "markdown",
   "metadata": {},
   "source": [
    "#### 2-11 mydir를 만들고, mydir에 mymod.py를 복사해서 mydir의 디렉터리 내용 확인하기"
   ]
  },
  {
   "cell_type": "markdown",
   "metadata": {},
   "source": [
    "       import shutil\n",
    "       \n",
    "       print(os.mkdir(\"mydir\"))\n",
    "       shutil.copy('mymod.py', 'mymod1.py')\n",
    "       shutil.move('mymod1.py', \"mydir\")\n",
    "       print(os.listdir('mydir'))"
   ]
  },
  {
   "cell_type": "markdown",
   "metadata": {},
   "source": [
    "* 질문 : def mul_op(*args):  # 여기서 args 앞에 별기호는 무슨 의미인가요??\n",
    "* 문법의 개념입니다."
   ]
  },
  {
   "cell_type": "markdown",
   "metadata": {},
   "source": [
    "### 08. 모듈 / 클래스"
   ]
  },
  {
   "cell_type": "markdown",
   "metadata": {},
   "source": [
    "       import time\n",
    "       \n",
    "       # 현재 시간을 실수형태로 표현된 것을 년월일시분초로 표현\n",
    "       a = time.time()\n",
    "       time.localtime(a)"
   ]
  },
  {
   "cell_type": "markdown",
   "metadata": {},
   "source": [
    "#### 3-2 클래스 지식 유무\n",
    "* YES : 김태찬, 오동익\n",
    "* No : 김현오, 임지윤"
   ]
  },
  {
   "cell_type": "markdown",
   "metadata": {},
   "source": [
    "#### 3-3 클래스를 만들어본 적이 있다.\n",
    "* 전원 No"
   ]
  },
  {
   "cell_type": "markdown",
   "metadata": {},
   "source": [
    "#### 3-5 [실습] 두번째 계산기 만들어보기(댓글)"
   ]
  },
  {
   "cell_type": "markdown",
   "metadata": {},
   "source": [
    "       # 두번째 계산기\n",
    "       result2 = 0\n",
    "       def plus2(num):\n",
    "         global result2\n",
    "         result2 += num\n",
    "         return result2"
   ]
  },
  {
   "cell_type": "markdown",
   "metadata": {},
   "source": [
    "#### 3-6 [실습] 빼기, 곱하기 를 2개의 계산기에 추가해보기"
   ]
  },
  {
   "cell_type": "markdown",
   "metadata": {},
   "source": [
    "       result1 = 0\n",
    "       def plus1(num):\n",
    "         global result1\n",
    "         result1 += num\n",
    "         return result1\n",
    "       def minus1(num):\n",
    "         global result1\n",
    "         result1 -= num\n",
    "         return result1\n",
    "       def mul1(num):\n",
    "         global result1\n",
    "         result1 *= num\n",
    "         return result1"
   ]
  },
  {
   "cell_type": "markdown",
   "metadata": {},
   "source": [
    "#### 3-7 [추가 실습] 계산기에 C값을 하는 기능을 추가하는 함수"
   ]
  },
  {
   "cell_type": "markdown",
   "metadata": {},
   "source": [
    "       # 계산기 만들기\n",
    "       result = 0\n",
    "       \n",
    "       def plus1(num):\n",
    "         global result\n",
    "         result += num\n",
    "         return result\n",
    "       \n",
    "       def minus1(num):\n",
    "         global result\n",
    "         result -=num\n",
    "         return result\n",
    "       \n",
    "       def mul(num):\n",
    "         global result\n",
    "         result *=num\n",
    "         return result\n",
    "       ##############################\n",
    "       \n",
    "       result1 = 0\n",
    "       \n",
    "       def plus2(num):\n",
    "         global result1\n",
    "         result1 += num\n",
    "         return result1\n",
    "       \n",
    "       def minus2(num):\n",
    "         global result1\n",
    "         result1 -=num\n",
    "         return result1\n",
    "       \n",
    "       def mul2(num):\n",
    "         global result1\n",
    "         result1 *=num\n",
    "         return result1"
   ]
  },
  {
   "cell_type": "markdown",
   "metadata": {},
   "source": [
    "#### 3-10 초기화하는 함수 추가\n",
    "#### 3-11 [나누기 기능 추가] divide함수 추가\n",
    "#### 3-12 [나누기 기능 0일때] 기능 개선"
   ]
  }
 ],
 "metadata": {
  "kernelspec": {
   "display_name": "Python 3",
   "language": "python",
   "name": "python3"
  },
  "language_info": {
   "codemirror_mode": {
    "name": "ipython",
    "version": 3
   },
   "file_extension": ".py",
   "mimetype": "text/x-python",
   "name": "python",
   "nbconvert_exporter": "python",
   "pygments_lexer": "ipython3",
   "version": "3.8.5"
  }
 },
 "nbformat": 4,
 "nbformat_minor": 4
}
