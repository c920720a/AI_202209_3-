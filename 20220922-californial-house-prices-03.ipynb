{
 "cells": [
  {
   "cell_type": "code",
   "execution_count": 1,
   "id": "cf855652",
   "metadata": {
    "_cell_guid": "b1076dfc-b9ad-4769-8c92-a6c4dae69d19",
    "_uuid": "8f2839f25d086af736a60e9eeb907d3b93b6e0e5",
    "execution": {
     "iopub.execute_input": "2022-09-22T04:37:54.386460Z",
     "iopub.status.busy": "2022-09-22T04:37:54.385973Z",
     "iopub.status.idle": "2022-09-22T04:37:54.398600Z",
     "shell.execute_reply": "2022-09-22T04:37:54.397400Z"
    },
    "papermill": {
     "duration": 0.025097,
     "end_time": "2022-09-22T04:37:54.401177",
     "exception": false,
     "start_time": "2022-09-22T04:37:54.376080",
     "status": "completed"
    },
    "tags": []
   },
   "outputs": [],
   "source": [
    "# This Python 3 environment comes with many helpful analytics libraries installed\n",
    "# It is defined by the kaggle/python Docker image: https://github.com/kaggle/docker-python\n",
    "# For example, here's several helpful packages to load\n",
    "\n",
    "import numpy as np # linear algebra\n",
    "import pandas as pd # data processing, CSV file I/O (e.g. pd.read_csv)\n",
    "\n",
    "# Input data files are available in the read-only \"../input/\" directory\n",
    "# For example, running this (by clicking run or pressing Shift+Enter) will list all files under the input directory\n",
    "\n",
    "import os\n",
    "for dirname, _, filenames in os.walk('/kaggle/input'):\n",
    "    for filename in filenames:\n",
    "        print(os.path.join(dirname, filename))\n",
    "\n",
    "# You can write up to 20GB to the current directory (/kaggle/working/) that gets preserved as output when you create a version using \"Save & Run All\" \n",
    "# You can also write temporary files to /kaggle/temp/, but they won't be saved outside of the current session"
   ]
  },
  {
   "cell_type": "code",
   "execution_count": 2,
   "id": "eb197acb",
   "metadata": {
    "execution": {
     "iopub.execute_input": "2022-09-22T04:37:54.416682Z",
     "iopub.status.busy": "2022-09-22T04:37:54.416301Z",
     "iopub.status.idle": "2022-09-22T04:37:54.420514Z",
     "shell.execute_reply": "2022-09-22T04:37:54.419621Z"
    },
    "papermill": {
     "duration": 0.014405,
     "end_time": "2022-09-22T04:37:54.422595",
     "exception": false,
     "start_time": "2022-09-22T04:37:54.408190",
     "status": "completed"
    },
    "tags": []
   },
   "outputs": [],
   "source": [
    "import pandas as pd"
   ]
  },
  {
   "cell_type": "code",
   "execution_count": 3,
   "id": "dee65d93",
   "metadata": {
    "execution": {
     "iopub.execute_input": "2022-09-22T04:37:54.437555Z",
     "iopub.status.busy": "2022-09-22T04:37:54.436882Z",
     "iopub.status.idle": "2022-09-22T04:37:55.839410Z",
     "shell.execute_reply": "2022-09-22T04:37:55.838224Z"
    },
    "papermill": {
     "duration": 1.412981,
     "end_time": "2022-09-22T04:37:55.842039",
     "exception": false,
     "start_time": "2022-09-22T04:37:54.429058",
     "status": "completed"
    },
    "tags": []
   },
   "outputs": [
    {
     "data": {
      "text/plain": [
       "((17000, 9), (3000, 9))"
      ]
     },
     "execution_count": 3,
     "metadata": {},
     "output_type": "execute_result"
    }
   ],
   "source": [
    "train = pd.read_csv(\"https://storage.googleapis.com/mledu-datasets/california_housing_train.csv\", sep=\",\")\n",
    "test = pd.read_csv(\"https://storage.googleapis.com/mledu-datasets/california_housing_test.csv\", sep=\",\")\n",
    "train.shape, test.shape"
   ]
  },
  {
   "cell_type": "markdown",
   "id": "c3f3b413",
   "metadata": {
    "papermill": {
     "duration": 0.006206,
     "end_time": "2022-09-22T04:37:55.855157",
     "exception": false,
     "start_time": "2022-09-22T04:37:55.848951",
     "status": "completed"
    },
    "tags": []
   },
   "source": [
    "#### 2-1 세대별 방의 개수"
   ]
  },
  {
   "cell_type": "code",
   "execution_count": 4,
   "id": "4d5007cf",
   "metadata": {
    "execution": {
     "iopub.execute_input": "2022-09-22T04:37:55.870132Z",
     "iopub.status.busy": "2022-09-22T04:37:55.869434Z",
     "iopub.status.idle": "2022-09-22T04:37:56.899427Z",
     "shell.execute_reply": "2022-09-22T04:37:56.898200Z"
    },
    "papermill": {
     "duration": 1.040636,
     "end_time": "2022-09-22T04:37:56.902151",
     "exception": false,
     "start_time": "2022-09-22T04:37:55.861515",
     "status": "completed"
    },
    "tags": []
   },
   "outputs": [],
   "source": [
    "import pandas as pd\n",
    "import seaborn as sns\n",
    "import matplotlib.pyplot as plt\n",
    "import numpy as np"
   ]
  },
  {
   "cell_type": "code",
   "execution_count": 5,
   "id": "309bd56c",
   "metadata": {
    "execution": {
     "iopub.execute_input": "2022-09-22T04:37:56.917470Z",
     "iopub.status.busy": "2022-09-22T04:37:56.917049Z",
     "iopub.status.idle": "2022-09-22T04:37:56.933079Z",
     "shell.execute_reply": "2022-09-22T04:37:56.931824Z"
    },
    "papermill": {
     "duration": 0.026814,
     "end_time": "2022-09-22T04:37:56.935812",
     "exception": false,
     "start_time": "2022-09-22T04:37:56.908998",
     "status": "completed"
    },
    "tags": []
   },
   "outputs": [],
   "source": [
    "train[\"room_household\"] = train[\"total_rooms\"] / train[\"households\"]\n",
    "test[\"room_household\"] = test[\"total_rooms\"] / test[\"households\"]"
   ]
  },
  {
   "cell_type": "markdown",
   "id": "2aa575d5",
   "metadata": {
    "papermill": {
     "duration": 0.006287,
     "end_time": "2022-09-22T04:37:56.948760",
     "exception": false,
     "start_time": "2022-09-22T04:37:56.942473",
     "status": "completed"
    },
    "tags": []
   },
   "source": [
    "#### 2-2 세대별 bedrooms"
   ]
  },
  {
   "cell_type": "code",
   "execution_count": 6,
   "id": "1d42bd28",
   "metadata": {
    "execution": {
     "iopub.execute_input": "2022-09-22T04:37:56.964943Z",
     "iopub.status.busy": "2022-09-22T04:37:56.964338Z",
     "iopub.status.idle": "2022-09-22T04:37:56.972044Z",
     "shell.execute_reply": "2022-09-22T04:37:56.970933Z"
    },
    "papermill": {
     "duration": 0.019235,
     "end_time": "2022-09-22T04:37:56.974561",
     "exception": false,
     "start_time": "2022-09-22T04:37:56.955326",
     "status": "completed"
    },
    "tags": []
   },
   "outputs": [],
   "source": [
    "train[\"bedrooms_household\"] = train[\"total_bedrooms\"] / train[\"households\"]\n",
    "test[\"bedrooms_household\"] = test[\"total_bedrooms\"] / test[\"households\"]"
   ]
  },
  {
   "cell_type": "markdown",
   "id": "f6bca855",
   "metadata": {
    "papermill": {
     "duration": 0.006151,
     "end_time": "2022-09-22T04:37:56.987300",
     "exception": false,
     "start_time": "2022-09-22T04:37:56.981149",
     "status": "completed"
    },
    "tags": []
   },
   "source": [
    "#### 2-3 세대별 인구수"
   ]
  },
  {
   "cell_type": "code",
   "execution_count": 7,
   "id": "bdf7d26d",
   "metadata": {
    "execution": {
     "iopub.execute_input": "2022-09-22T04:37:57.002534Z",
     "iopub.status.busy": "2022-09-22T04:37:57.001741Z",
     "iopub.status.idle": "2022-09-22T04:37:57.008936Z",
     "shell.execute_reply": "2022-09-22T04:37:57.007751Z"
    },
    "papermill": {
     "duration": 0.017737,
     "end_time": "2022-09-22T04:37:57.011482",
     "exception": false,
     "start_time": "2022-09-22T04:37:56.993745",
     "status": "completed"
    },
    "tags": []
   },
   "outputs": [],
   "source": [
    "train[\"population_household\"] = train[\"population\"] / train[\"households\"]\n",
    "test[\"population_household\"] = test[\"population\"] / test[\"households\"]"
   ]
  },
  {
   "cell_type": "markdown",
   "id": "fa99a4f2",
   "metadata": {
    "papermill": {
     "duration": 0.00619,
     "end_time": "2022-09-22T04:37:57.024346",
     "exception": false,
     "start_time": "2022-09-22T04:37:57.018156",
     "status": "completed"
    },
    "tags": []
   },
   "source": [
    "#### 2-4 bedrooms와 rooms를 비교했을 때 어떤 것이 집값에 더 영향을 미칠까?"
   ]
  },
  {
   "cell_type": "code",
   "execution_count": 8,
   "id": "23b03461",
   "metadata": {
    "execution": {
     "iopub.execute_input": "2022-09-22T04:37:57.040496Z",
     "iopub.status.busy": "2022-09-22T04:37:57.040090Z",
     "iopub.status.idle": "2022-09-22T04:37:57.063267Z",
     "shell.execute_reply": "2022-09-22T04:37:57.062386Z"
    },
    "papermill": {
     "duration": 0.033444,
     "end_time": "2022-09-22T04:37:57.065411",
     "exception": false,
     "start_time": "2022-09-22T04:37:57.031967",
     "status": "completed"
    },
    "tags": []
   },
   "outputs": [
    {
     "data": {
      "text/plain": [
       "median_house_value      1.000000\n",
       "median_income           0.691871\n",
       "room_household          0.150081\n",
       "total_rooms             0.130991\n",
       "housing_median_age      0.106758\n",
       "households              0.061031\n",
       "total_bedrooms          0.045783\n",
       "population             -0.027850\n",
       "population_household   -0.042764\n",
       "longitude              -0.044982\n",
       "bedrooms_household     -0.045668\n",
       "latitude               -0.144917\n",
       "Name: median_house_value, dtype: float64"
      ]
     },
     "execution_count": 8,
     "metadata": {},
     "output_type": "execute_result"
    }
   ],
   "source": [
    "corr_matrix_train = train.corr()\n",
    "corr_matrix_train[\"median_house_value\"].sort_values(ascending=False)"
   ]
  },
  {
   "cell_type": "markdown",
   "id": "c6a73848",
   "metadata": {
    "papermill": {
     "duration": 0.006296,
     "end_time": "2022-09-22T04:37:57.078365",
     "exception": false,
     "start_time": "2022-09-22T04:37:57.072069",
     "status": "completed"
    },
    "tags": []
   },
   "source": [
    "* total_rooms             0.130991\n",
    "* total_bedrooms          0.045783\n",
    "* rooms이 집값에 영향을 더 미치는 것 같다."
   ]
  },
  {
   "cell_type": "markdown",
   "id": "96d1f917",
   "metadata": {
    "papermill": {
     "duration": 0.006191,
     "end_time": "2022-09-22T04:37:57.091113",
     "exception": false,
     "start_time": "2022-09-22T04:37:57.084922",
     "status": "completed"
    },
    "tags": []
   },
   "source": [
    "#### ★2-5 침실이 가장 많은 위치는 어디인가?\n",
    "#### ★2-6 중위 소득이 가장 높은 지역은 어디일까?"
   ]
  },
  {
   "cell_type": "code",
   "execution_count": 9,
   "id": "875dae10",
   "metadata": {
    "execution": {
     "iopub.execute_input": "2022-09-22T04:37:57.105834Z",
     "iopub.status.busy": "2022-09-22T04:37:57.105400Z",
     "iopub.status.idle": "2022-09-22T04:37:57.122668Z",
     "shell.execute_reply": "2022-09-22T04:37:57.121318Z"
    },
    "papermill": {
     "duration": 0.027584,
     "end_time": "2022-09-22T04:37:57.125169",
     "exception": false,
     "start_time": "2022-09-22T04:37:57.097585",
     "status": "completed"
    },
    "tags": []
   },
   "outputs": [
    {
     "name": "stdout",
     "output_type": "stream",
     "text": [
      "데이터 가공 셋의 크기 :  (17000, 3)\n",
      "데이터 가공 셋의 일부 : \n",
      "   total_rooms  total_bedrooms  population\n",
      "0       5612.0          1283.0      1015.0\n",
      "1       7650.0          1901.0      1129.0\n",
      "2        720.0           174.0       333.0\n",
      "3       1501.0           337.0       515.0\n",
      "4       1454.0           326.0       624.0\n"
     ]
    }
   ],
   "source": [
    "sel = ['total_rooms', 'total_bedrooms', 'population']\n",
    "\n",
    "temp_train = train[ sel  ]\n",
    "\n",
    "print(\"데이터 가공 셋의 크기 : \", temp_train.shape)\n",
    "print(\"데이터 가공 셋의 일부 : \")\n",
    "print(temp_train.head()) "
   ]
  },
  {
   "cell_type": "code",
   "execution_count": 10,
   "id": "587435bb",
   "metadata": {
    "execution": {
     "iopub.execute_input": "2022-09-22T04:37:57.140938Z",
     "iopub.status.busy": "2022-09-22T04:37:57.140017Z",
     "iopub.status.idle": "2022-09-22T04:37:57.144737Z",
     "shell.execute_reply": "2022-09-22T04:37:57.143806Z"
    },
    "papermill": {
     "duration": 0.014708,
     "end_time": "2022-09-22T04:37:57.146838",
     "exception": false,
     "start_time": "2022-09-22T04:37:57.132130",
     "status": "completed"
    },
    "tags": []
   },
   "outputs": [],
   "source": [
    "import seaborn as sns\n",
    "import matplotlib.pyplot as plt"
   ]
  },
  {
   "cell_type": "code",
   "execution_count": 11,
   "id": "a2ba3af8",
   "metadata": {
    "execution": {
     "iopub.execute_input": "2022-09-22T04:37:57.162354Z",
     "iopub.status.busy": "2022-09-22T04:37:57.161636Z",
     "iopub.status.idle": "2022-09-22T04:37:57.553877Z",
     "shell.execute_reply": "2022-09-22T04:37:57.552733Z"
    },
    "papermill": {
     "duration": 0.402718,
     "end_time": "2022-09-22T04:37:57.556291",
     "exception": false,
     "start_time": "2022-09-22T04:37:57.153573",
     "status": "completed"
    },
    "tags": []
   },
   "outputs": [
    {
     "data": {
      "text/plain": [
       "<AxesSubplot:xlabel='population'>"
      ]
     },
     "execution_count": 11,
     "metadata": {},
     "output_type": "execute_result"
    },
    {
     "data": {
      "image/png": "[encoded data removed]",
      "text/plain": [
       "<Figure size 720x720 with 3 Axes>"
      ]
     },
     "metadata": {
      "needs_background": "light"
     },
     "output_type": "display_data"
    }
   ],
   "source": [
    "plt.figure(figsize=(10,10))\n",
    "\n",
    "plt.subplot(3,1,1) \n",
    "sns.boxplot(x=\"total_rooms\", data=temp_train)\n",
    "\n",
    "plt.subplot(3,1,2) \n",
    "sns.boxplot(x=\"total_bedrooms\", data=temp_train)\n",
    "\n",
    "plt.subplot(3,1,3) \n",
    "sns.boxplot(x=\"population\", data=temp_train) "
   ]
  },
  {
   "cell_type": "code",
   "execution_count": 12,
   "id": "a8d97ba6",
   "metadata": {
    "execution": {
     "iopub.execute_input": "2022-09-22T04:37:57.573015Z",
     "iopub.status.busy": "2022-09-22T04:37:57.572580Z",
     "iopub.status.idle": "2022-09-22T04:37:58.372535Z",
     "shell.execute_reply": "2022-09-22T04:37:58.371672Z"
    },
    "papermill": {
     "duration": 0.810811,
     "end_time": "2022-09-22T04:37:58.374731",
     "exception": false,
     "start_time": "2022-09-22T04:37:57.563920",
     "status": "completed"
    },
    "tags": []
   },
   "outputs": [
    {
     "data": {
      "text/plain": [
       "<AxesSubplot:xlabel='median_house_value'>"
      ]
     },
     "execution_count": 12,
     "metadata": {},
     "output_type": "execute_result"
    },
    {
     "data": {
      "image/png": "[encoded data removed]",
      "text/plain": [
       "<Figure size 720x720 with 8 Axes>"
      ]
     },
     "metadata": {
      "needs_background": "light"
     },
     "output_type": "display_data"
    }
   ],
   "source": [
    "plt.figure(figsize=(10,10))\n",
    "\n",
    "plt.subplot(3,3,1) \n",
    "sns.boxplot(x=\"total_rooms\", data=train)\n",
    "plt.subplot(3,3,2) \n",
    "sns.boxplot(x=\"total_bedrooms\", data=train)\n",
    "plt.subplot(3,3,3) \n",
    "sns.boxplot(x=\"population\", data=train)  \n",
    "\n",
    "plt.subplot(3,3,4) \n",
    "sns.boxplot(x=\"longitude\", data=train)\n",
    "plt.subplot(3,3,5) \n",
    "sns.boxplot(x=\"latitude\", data=train)\n",
    "plt.subplot(3,3,6) \n",
    "sns.boxplot(x=\"households\", data=train)  \n",
    "\n",
    "plt.subplot(3,3,7) \n",
    "sns.boxplot(x=\"median_income\", data=train)\n",
    "plt.subplot(3,3,8) \n",
    "sns.boxplot(x=\"median_house_value\", data=train)"
   ]
  },
  {
   "cell_type": "code",
   "execution_count": 13,
   "id": "f79e38c8",
   "metadata": {
    "execution": {
     "iopub.execute_input": "2022-09-22T04:37:58.393197Z",
     "iopub.status.busy": "2022-09-22T04:37:58.391972Z",
     "iopub.status.idle": "2022-09-22T04:37:58.430244Z",
     "shell.execute_reply": "2022-09-22T04:37:58.428976Z"
    },
    "papermill": {
     "duration": 0.050004,
     "end_time": "2022-09-22T04:37:58.432608",
     "exception": false,
     "start_time": "2022-09-22T04:37:58.382604",
     "status": "completed"
    },
    "tags": []
   },
   "outputs": [
    {
     "data": {
      "text/html": [
       "<div>\n",
       "<style scoped>\n",
       "    .dataframe tbody tr th:only-of-type {\n",
       "        vertical-align: middle;\n",
       "    }\n",
       "\n",
       "    .dataframe tbody tr th {\n",
       "        vertical-align: top;\n",
       "    }\n",
       "\n",
       "    .dataframe thead th {\n",
       "        text-align: right;\n",
       "    }\n",
       "</style>\n",
       "<table border=\"1\" class=\"dataframe\">\n",
       "  <thead>\n",
       "    <tr style=\"text-align: right;\">\n",
       "      <th></th>\n",
       "      <th>longitude</th>\n",
       "      <th>latitude</th>\n",
       "      <th>housing_median_age</th>\n",
       "      <th>total_rooms</th>\n",
       "      <th>total_bedrooms</th>\n",
       "      <th>population</th>\n",
       "      <th>households</th>\n",
       "      <th>median_income</th>\n",
       "      <th>median_house_value</th>\n",
       "      <th>room_household</th>\n",
       "      <th>bedrooms_household</th>\n",
       "      <th>population_household</th>\n",
       "      <th>total_rooms_level</th>\n",
       "    </tr>\n",
       "  </thead>\n",
       "  <tbody>\n",
       "    <tr>\n",
       "      <th>0</th>\n",
       "      <td>-114.31</td>\n",
       "      <td>34.19</td>\n",
       "      <td>15.0</td>\n",
       "      <td>5612.0</td>\n",
       "      <td>1283.0</td>\n",
       "      <td>1015.0</td>\n",
       "      <td>472.0</td>\n",
       "      <td>1.4936</td>\n",
       "      <td>66900.0</td>\n",
       "      <td>11.889831</td>\n",
       "      <td>2.718220</td>\n",
       "      <td>2.150424</td>\n",
       "      <td>1.0</td>\n",
       "    </tr>\n",
       "    <tr>\n",
       "      <th>1</th>\n",
       "      <td>-114.47</td>\n",
       "      <td>34.40</td>\n",
       "      <td>19.0</td>\n",
       "      <td>7650.0</td>\n",
       "      <td>1901.0</td>\n",
       "      <td>1129.0</td>\n",
       "      <td>463.0</td>\n",
       "      <td>1.8200</td>\n",
       "      <td>80100.0</td>\n",
       "      <td>16.522678</td>\n",
       "      <td>4.105832</td>\n",
       "      <td>2.438445</td>\n",
       "      <td>1.0</td>\n",
       "    </tr>\n",
       "    <tr>\n",
       "      <th>2</th>\n",
       "      <td>-114.56</td>\n",
       "      <td>33.69</td>\n",
       "      <td>17.0</td>\n",
       "      <td>720.0</td>\n",
       "      <td>174.0</td>\n",
       "      <td>333.0</td>\n",
       "      <td>117.0</td>\n",
       "      <td>1.6509</td>\n",
       "      <td>85700.0</td>\n",
       "      <td>6.153846</td>\n",
       "      <td>1.487179</td>\n",
       "      <td>2.846154</td>\n",
       "      <td>4.0</td>\n",
       "    </tr>\n",
       "    <tr>\n",
       "      <th>3</th>\n",
       "      <td>-114.57</td>\n",
       "      <td>33.64</td>\n",
       "      <td>14.0</td>\n",
       "      <td>1501.0</td>\n",
       "      <td>337.0</td>\n",
       "      <td>515.0</td>\n",
       "      <td>226.0</td>\n",
       "      <td>3.1917</td>\n",
       "      <td>73400.0</td>\n",
       "      <td>6.641593</td>\n",
       "      <td>1.491150</td>\n",
       "      <td>2.278761</td>\n",
       "      <td>3.0</td>\n",
       "    </tr>\n",
       "    <tr>\n",
       "      <th>4</th>\n",
       "      <td>-114.57</td>\n",
       "      <td>33.57</td>\n",
       "      <td>20.0</td>\n",
       "      <td>1454.0</td>\n",
       "      <td>326.0</td>\n",
       "      <td>624.0</td>\n",
       "      <td>262.0</td>\n",
       "      <td>1.9250</td>\n",
       "      <td>65500.0</td>\n",
       "      <td>5.549618</td>\n",
       "      <td>1.244275</td>\n",
       "      <td>2.381679</td>\n",
       "      <td>4.0</td>\n",
       "    </tr>\n",
       "    <tr>\n",
       "      <th>...</th>\n",
       "      <td>...</td>\n",
       "      <td>...</td>\n",
       "      <td>...</td>\n",
       "      <td>...</td>\n",
       "      <td>...</td>\n",
       "      <td>...</td>\n",
       "      <td>...</td>\n",
       "      <td>...</td>\n",
       "      <td>...</td>\n",
       "      <td>...</td>\n",
       "      <td>...</td>\n",
       "      <td>...</td>\n",
       "      <td>...</td>\n",
       "    </tr>\n",
       "    <tr>\n",
       "      <th>16995</th>\n",
       "      <td>-124.26</td>\n",
       "      <td>40.58</td>\n",
       "      <td>52.0</td>\n",
       "      <td>2217.0</td>\n",
       "      <td>394.0</td>\n",
       "      <td>907.0</td>\n",
       "      <td>369.0</td>\n",
       "      <td>2.3571</td>\n",
       "      <td>111400.0</td>\n",
       "      <td>6.008130</td>\n",
       "      <td>1.067751</td>\n",
       "      <td>2.457995</td>\n",
       "      <td>2.0</td>\n",
       "    </tr>\n",
       "    <tr>\n",
       "      <th>16996</th>\n",
       "      <td>-124.27</td>\n",
       "      <td>40.69</td>\n",
       "      <td>36.0</td>\n",
       "      <td>2349.0</td>\n",
       "      <td>528.0</td>\n",
       "      <td>1194.0</td>\n",
       "      <td>465.0</td>\n",
       "      <td>2.5179</td>\n",
       "      <td>79000.0</td>\n",
       "      <td>5.051613</td>\n",
       "      <td>1.135484</td>\n",
       "      <td>2.567742</td>\n",
       "      <td>2.0</td>\n",
       "    </tr>\n",
       "    <tr>\n",
       "      <th>16997</th>\n",
       "      <td>-124.30</td>\n",
       "      <td>41.84</td>\n",
       "      <td>17.0</td>\n",
       "      <td>2677.0</td>\n",
       "      <td>531.0</td>\n",
       "      <td>1244.0</td>\n",
       "      <td>456.0</td>\n",
       "      <td>3.0313</td>\n",
       "      <td>103600.0</td>\n",
       "      <td>5.870614</td>\n",
       "      <td>1.164474</td>\n",
       "      <td>2.728070</td>\n",
       "      <td>2.0</td>\n",
       "    </tr>\n",
       "    <tr>\n",
       "      <th>16998</th>\n",
       "      <td>-124.30</td>\n",
       "      <td>41.80</td>\n",
       "      <td>19.0</td>\n",
       "      <td>2672.0</td>\n",
       "      <td>552.0</td>\n",
       "      <td>1298.0</td>\n",
       "      <td>478.0</td>\n",
       "      <td>1.9797</td>\n",
       "      <td>85800.0</td>\n",
       "      <td>5.589958</td>\n",
       "      <td>1.154812</td>\n",
       "      <td>2.715481</td>\n",
       "      <td>2.0</td>\n",
       "    </tr>\n",
       "    <tr>\n",
       "      <th>16999</th>\n",
       "      <td>-124.35</td>\n",
       "      <td>40.54</td>\n",
       "      <td>52.0</td>\n",
       "      <td>1820.0</td>\n",
       "      <td>300.0</td>\n",
       "      <td>806.0</td>\n",
       "      <td>270.0</td>\n",
       "      <td>3.0147</td>\n",
       "      <td>94600.0</td>\n",
       "      <td>6.740741</td>\n",
       "      <td>1.111111</td>\n",
       "      <td>2.985185</td>\n",
       "      <td>3.0</td>\n",
       "    </tr>\n",
       "  </tbody>\n",
       "</table>\n",
       "<p>17000 rows × 13 columns</p>\n",
       "</div>"
      ],
      "text/plain": [
       "       longitude  latitude  housing_median_age  total_rooms  total_bedrooms  \\\n",
       "0        -114.31     34.19                15.0       5612.0          1283.0   \n",
       "1        -114.47     34.40                19.0       7650.0          1901.0   \n",
       "2        -114.56     33.69                17.0        720.0           174.0   \n",
       "3        -114.57     33.64                14.0       1501.0           337.0   \n",
       "4        -114.57     33.57                20.0       1454.0           326.0   \n",
       "...          ...       ...                 ...          ...             ...   \n",
       "16995    -124.26     40.58                52.0       2217.0           394.0   \n",
       "16996    -124.27     40.69                36.0       2349.0           528.0   \n",
       "16997    -124.30     41.84                17.0       2677.0           531.0   \n",
       "16998    -124.30     41.80                19.0       2672.0           552.0   \n",
       "16999    -124.35     40.54                52.0       1820.0           300.0   \n",
       "\n",
       "       population  households  median_income  median_house_value  \\\n",
       "0          1015.0       472.0         1.4936             66900.0   \n",
       "1          1129.0       463.0         1.8200             80100.0   \n",
       "2           333.0       117.0         1.6509             85700.0   \n",
       "3           515.0       226.0         3.1917             73400.0   \n",
       "4           624.0       262.0         1.9250             65500.0   \n",
       "...           ...         ...            ...                 ...   \n",
       "16995       907.0       369.0         2.3571            111400.0   \n",
       "16996      1194.0       465.0         2.5179             79000.0   \n",
       "16997      1244.0       456.0         3.0313            103600.0   \n",
       "16998      1298.0       478.0         1.9797             85800.0   \n",
       "16999       806.0       270.0         3.0147             94600.0   \n",
       "\n",
       "       room_household  bedrooms_household  population_household  \\\n",
       "0           11.889831            2.718220              2.150424   \n",
       "1           16.522678            4.105832              2.438445   \n",
       "2            6.153846            1.487179              2.846154   \n",
       "3            6.641593            1.491150              2.278761   \n",
       "4            5.549618            1.244275              2.381679   \n",
       "...               ...                 ...                   ...   \n",
       "16995        6.008130            1.067751              2.457995   \n",
       "16996        5.051613            1.135484              2.567742   \n",
       "16997        5.870614            1.164474              2.728070   \n",
       "16998        5.589958            1.154812              2.715481   \n",
       "16999        6.740741            1.111111              2.985185   \n",
       "\n",
       "       total_rooms_level  \n",
       "0                    1.0  \n",
       "1                    1.0  \n",
       "2                    4.0  \n",
       "3                    3.0  \n",
       "4                    4.0  \n",
       "...                  ...  \n",
       "16995                2.0  \n",
       "16996                2.0  \n",
       "16997                2.0  \n",
       "16998                2.0  \n",
       "16999                3.0  \n",
       "\n",
       "[17000 rows x 13 columns]"
      ]
     },
     "execution_count": 13,
     "metadata": {},
     "output_type": "execute_result"
    }
   ],
   "source": [
    "train.loc[ train['total_rooms']>= 3152 , \"total_rooms_level\"] = 1\n",
    "train.loc[ (train['total_rooms']> 2127) & (train['total_rooms'] <= 3151) , \"total_rooms_level\"] = 2\n",
    "train.loc[ (train['total_rooms']> 1462) & (train['total_rooms'] <= 2127) , \"total_rooms_level\"] = 3\n",
    "train.loc[ train['total_rooms'] <= 1462 , \"total_rooms_level\"] = 4\n",
    "train"
   ]
  },
  {
   "cell_type": "markdown",
   "id": "f0211c75",
   "metadata": {
    "papermill": {
     "duration": 0.007901,
     "end_time": "2022-09-22T04:37:58.448910",
     "exception": false,
     "start_time": "2022-09-22T04:37:58.441009",
     "status": "completed"
    },
    "tags": []
   },
   "source": [
    "#### 3-1 total_bedrooms도 4그룹으로 만들어서 새로운 컬럼을 생성해 보기."
   ]
  },
  {
   "cell_type": "code",
   "execution_count": 14,
   "id": "c84236ad",
   "metadata": {
    "execution": {
     "iopub.execute_input": "2022-09-22T04:37:58.467288Z",
     "iopub.status.busy": "2022-09-22T04:37:58.466459Z",
     "iopub.status.idle": "2022-09-22T04:37:58.478667Z",
     "shell.execute_reply": "2022-09-22T04:37:58.477718Z"
    },
    "papermill": {
     "duration": 0.023989,
     "end_time": "2022-09-22T04:37:58.481096",
     "exception": false,
     "start_time": "2022-09-22T04:37:58.457107",
     "status": "completed"
    },
    "tags": []
   },
   "outputs": [],
   "source": [
    "## 1그룹 : 648~\n",
    "## 2그룹 : 435~648\n",
    "## 3그룹 : 298~434\n",
    "## 4그룹 : 1 ~ 297\n",
    "\n",
    "train.loc[ train['total_bedrooms']>= 648 , \"total_bedrooms_level\"] = 1\n",
    "train.loc[ (train['total_bedrooms']> 434) & (train['total_bedrooms'] <= 648) , \"total_bedrooms_level\"] = 2\n",
    "train.loc[ (train['total_bedrooms']> 297) & (train['total_bedrooms'] <= 434) , \"total_bedrooms_level\"] = 3\n",
    "train.loc[ (train['total_bedrooms']<= 297) , \"total_bedrooms_level\"] = 4"
   ]
  },
  {
   "cell_type": "markdown",
   "id": "96d6c71a",
   "metadata": {
    "papermill": {
     "duration": 0.007812,
     "end_time": "2022-09-22T04:37:58.497293",
     "exception": false,
     "start_time": "2022-09-22T04:37:58.489481",
     "status": "completed"
    },
    "tags": []
   },
   "source": [
    "#### 3-4 (추가) median_income을 10그룹으로 만들어서 새로운 컬럼을 생성."
   ]
  },
  {
   "cell_type": "code",
   "execution_count": 15,
   "id": "58a81f2d",
   "metadata": {
    "execution": {
     "iopub.execute_input": "2022-09-22T04:37:58.515468Z",
     "iopub.status.busy": "2022-09-22T04:37:58.514701Z",
     "iopub.status.idle": "2022-09-22T04:37:58.561197Z",
     "shell.execute_reply": "2022-09-22T04:37:58.560109Z"
    },
    "papermill": {
     "duration": 0.058261,
     "end_time": "2022-09-22T04:37:58.563601",
     "exception": false,
     "start_time": "2022-09-22T04:37:58.505340",
     "status": "completed"
    },
    "tags": []
   },
   "outputs": [
    {
     "data": {
      "text/html": [
       "<div>\n",
       "<style scoped>\n",
       "    .dataframe tbody tr th:only-of-type {\n",
       "        vertical-align: middle;\n",
       "    }\n",
       "\n",
       "    .dataframe tbody tr th {\n",
       "        vertical-align: top;\n",
       "    }\n",
       "\n",
       "    .dataframe thead th {\n",
       "        text-align: right;\n",
       "    }\n",
       "</style>\n",
       "<table border=\"1\" class=\"dataframe\">\n",
       "  <thead>\n",
       "    <tr style=\"text-align: right;\">\n",
       "      <th></th>\n",
       "      <th>longitude</th>\n",
       "      <th>latitude</th>\n",
       "      <th>housing_median_age</th>\n",
       "      <th>total_rooms</th>\n",
       "      <th>total_bedrooms</th>\n",
       "      <th>population</th>\n",
       "      <th>households</th>\n",
       "      <th>median_income</th>\n",
       "      <th>median_house_value</th>\n",
       "      <th>room_household</th>\n",
       "      <th>bedrooms_household</th>\n",
       "      <th>population_household</th>\n",
       "      <th>total_rooms_level</th>\n",
       "      <th>total_bedrooms_level</th>\n",
       "      <th>median_income_level</th>\n",
       "    </tr>\n",
       "  </thead>\n",
       "  <tbody>\n",
       "    <tr>\n",
       "      <th>0</th>\n",
       "      <td>-114.31</td>\n",
       "      <td>34.19</td>\n",
       "      <td>15.0</td>\n",
       "      <td>5612.0</td>\n",
       "      <td>1283.0</td>\n",
       "      <td>1015.0</td>\n",
       "      <td>472.0</td>\n",
       "      <td>1.4936</td>\n",
       "      <td>66900.0</td>\n",
       "      <td>11.889831</td>\n",
       "      <td>2.718220</td>\n",
       "      <td>2.150424</td>\n",
       "      <td>1.0</td>\n",
       "      <td>1.0</td>\n",
       "      <td>3.0</td>\n",
       "    </tr>\n",
       "    <tr>\n",
       "      <th>1</th>\n",
       "      <td>-114.47</td>\n",
       "      <td>34.40</td>\n",
       "      <td>19.0</td>\n",
       "      <td>7650.0</td>\n",
       "      <td>1901.0</td>\n",
       "      <td>1129.0</td>\n",
       "      <td>463.0</td>\n",
       "      <td>1.8200</td>\n",
       "      <td>80100.0</td>\n",
       "      <td>16.522678</td>\n",
       "      <td>4.105832</td>\n",
       "      <td>2.438445</td>\n",
       "      <td>1.0</td>\n",
       "      <td>1.0</td>\n",
       "      <td>4.0</td>\n",
       "    </tr>\n",
       "    <tr>\n",
       "      <th>2</th>\n",
       "      <td>-114.56</td>\n",
       "      <td>33.69</td>\n",
       "      <td>17.0</td>\n",
       "      <td>720.0</td>\n",
       "      <td>174.0</td>\n",
       "      <td>333.0</td>\n",
       "      <td>117.0</td>\n",
       "      <td>1.6509</td>\n",
       "      <td>85700.0</td>\n",
       "      <td>6.153846</td>\n",
       "      <td>1.487179</td>\n",
       "      <td>2.846154</td>\n",
       "      <td>4.0</td>\n",
       "      <td>4.0</td>\n",
       "      <td>4.0</td>\n",
       "    </tr>\n",
       "    <tr>\n",
       "      <th>3</th>\n",
       "      <td>-114.57</td>\n",
       "      <td>33.64</td>\n",
       "      <td>14.0</td>\n",
       "      <td>1501.0</td>\n",
       "      <td>337.0</td>\n",
       "      <td>515.0</td>\n",
       "      <td>226.0</td>\n",
       "      <td>3.1917</td>\n",
       "      <td>73400.0</td>\n",
       "      <td>6.641593</td>\n",
       "      <td>1.491150</td>\n",
       "      <td>2.278761</td>\n",
       "      <td>3.0</td>\n",
       "      <td>3.0</td>\n",
       "      <td>7.0</td>\n",
       "    </tr>\n",
       "    <tr>\n",
       "      <th>4</th>\n",
       "      <td>-114.57</td>\n",
       "      <td>33.57</td>\n",
       "      <td>20.0</td>\n",
       "      <td>1454.0</td>\n",
       "      <td>326.0</td>\n",
       "      <td>624.0</td>\n",
       "      <td>262.0</td>\n",
       "      <td>1.9250</td>\n",
       "      <td>65500.0</td>\n",
       "      <td>5.549618</td>\n",
       "      <td>1.244275</td>\n",
       "      <td>2.381679</td>\n",
       "      <td>4.0</td>\n",
       "      <td>3.0</td>\n",
       "      <td>4.0</td>\n",
       "    </tr>\n",
       "    <tr>\n",
       "      <th>...</th>\n",
       "      <td>...</td>\n",
       "      <td>...</td>\n",
       "      <td>...</td>\n",
       "      <td>...</td>\n",
       "      <td>...</td>\n",
       "      <td>...</td>\n",
       "      <td>...</td>\n",
       "      <td>...</td>\n",
       "      <td>...</td>\n",
       "      <td>...</td>\n",
       "      <td>...</td>\n",
       "      <td>...</td>\n",
       "      <td>...</td>\n",
       "      <td>...</td>\n",
       "      <td>...</td>\n",
       "    </tr>\n",
       "    <tr>\n",
       "      <th>16995</th>\n",
       "      <td>-124.26</td>\n",
       "      <td>40.58</td>\n",
       "      <td>52.0</td>\n",
       "      <td>2217.0</td>\n",
       "      <td>394.0</td>\n",
       "      <td>907.0</td>\n",
       "      <td>369.0</td>\n",
       "      <td>2.3571</td>\n",
       "      <td>111400.0</td>\n",
       "      <td>6.008130</td>\n",
       "      <td>1.067751</td>\n",
       "      <td>2.457995</td>\n",
       "      <td>2.0</td>\n",
       "      <td>3.0</td>\n",
       "      <td>5.0</td>\n",
       "    </tr>\n",
       "    <tr>\n",
       "      <th>16996</th>\n",
       "      <td>-124.27</td>\n",
       "      <td>40.69</td>\n",
       "      <td>36.0</td>\n",
       "      <td>2349.0</td>\n",
       "      <td>528.0</td>\n",
       "      <td>1194.0</td>\n",
       "      <td>465.0</td>\n",
       "      <td>2.5179</td>\n",
       "      <td>79000.0</td>\n",
       "      <td>5.051613</td>\n",
       "      <td>1.135484</td>\n",
       "      <td>2.567742</td>\n",
       "      <td>2.0</td>\n",
       "      <td>2.0</td>\n",
       "      <td>6.0</td>\n",
       "    </tr>\n",
       "    <tr>\n",
       "      <th>16997</th>\n",
       "      <td>-124.30</td>\n",
       "      <td>41.84</td>\n",
       "      <td>17.0</td>\n",
       "      <td>2677.0</td>\n",
       "      <td>531.0</td>\n",
       "      <td>1244.0</td>\n",
       "      <td>456.0</td>\n",
       "      <td>3.0313</td>\n",
       "      <td>103600.0</td>\n",
       "      <td>5.870614</td>\n",
       "      <td>1.164474</td>\n",
       "      <td>2.728070</td>\n",
       "      <td>2.0</td>\n",
       "      <td>2.0</td>\n",
       "      <td>7.0</td>\n",
       "    </tr>\n",
       "    <tr>\n",
       "      <th>16998</th>\n",
       "      <td>-124.30</td>\n",
       "      <td>41.80</td>\n",
       "      <td>19.0</td>\n",
       "      <td>2672.0</td>\n",
       "      <td>552.0</td>\n",
       "      <td>1298.0</td>\n",
       "      <td>478.0</td>\n",
       "      <td>1.9797</td>\n",
       "      <td>85800.0</td>\n",
       "      <td>5.589958</td>\n",
       "      <td>1.154812</td>\n",
       "      <td>2.715481</td>\n",
       "      <td>2.0</td>\n",
       "      <td>2.0</td>\n",
       "      <td>4.0</td>\n",
       "    </tr>\n",
       "    <tr>\n",
       "      <th>16999</th>\n",
       "      <td>-124.35</td>\n",
       "      <td>40.54</td>\n",
       "      <td>52.0</td>\n",
       "      <td>1820.0</td>\n",
       "      <td>300.0</td>\n",
       "      <td>806.0</td>\n",
       "      <td>270.0</td>\n",
       "      <td>3.0147</td>\n",
       "      <td>94600.0</td>\n",
       "      <td>6.740741</td>\n",
       "      <td>1.111111</td>\n",
       "      <td>2.985185</td>\n",
       "      <td>3.0</td>\n",
       "      <td>3.0</td>\n",
       "      <td>7.0</td>\n",
       "    </tr>\n",
       "  </tbody>\n",
       "</table>\n",
       "<p>17000 rows × 15 columns</p>\n",
       "</div>"
      ],
      "text/plain": [
       "       longitude  latitude  housing_median_age  total_rooms  total_bedrooms  \\\n",
       "0        -114.31     34.19                15.0       5612.0          1283.0   \n",
       "1        -114.47     34.40                19.0       7650.0          1901.0   \n",
       "2        -114.56     33.69                17.0        720.0           174.0   \n",
       "3        -114.57     33.64                14.0       1501.0           337.0   \n",
       "4        -114.57     33.57                20.0       1454.0           326.0   \n",
       "...          ...       ...                 ...          ...             ...   \n",
       "16995    -124.26     40.58                52.0       2217.0           394.0   \n",
       "16996    -124.27     40.69                36.0       2349.0           528.0   \n",
       "16997    -124.30     41.84                17.0       2677.0           531.0   \n",
       "16998    -124.30     41.80                19.0       2672.0           552.0   \n",
       "16999    -124.35     40.54                52.0       1820.0           300.0   \n",
       "\n",
       "       population  households  median_income  median_house_value  \\\n",
       "0          1015.0       472.0         1.4936             66900.0   \n",
       "1          1129.0       463.0         1.8200             80100.0   \n",
       "2           333.0       117.0         1.6509             85700.0   \n",
       "3           515.0       226.0         3.1917             73400.0   \n",
       "4           624.0       262.0         1.9250             65500.0   \n",
       "...           ...         ...            ...                 ...   \n",
       "16995       907.0       369.0         2.3571            111400.0   \n",
       "16996      1194.0       465.0         2.5179             79000.0   \n",
       "16997      1244.0       456.0         3.0313            103600.0   \n",
       "16998      1298.0       478.0         1.9797             85800.0   \n",
       "16999       806.0       270.0         3.0147             94600.0   \n",
       "\n",
       "       room_household  bedrooms_household  population_household  \\\n",
       "0           11.889831            2.718220              2.150424   \n",
       "1           16.522678            4.105832              2.438445   \n",
       "2            6.153846            1.487179              2.846154   \n",
       "3            6.641593            1.491150              2.278761   \n",
       "4            5.549618            1.244275              2.381679   \n",
       "...               ...                 ...                   ...   \n",
       "16995        6.008130            1.067751              2.457995   \n",
       "16996        5.051613            1.135484              2.567742   \n",
       "16997        5.870614            1.164474              2.728070   \n",
       "16998        5.589958            1.154812              2.715481   \n",
       "16999        6.740741            1.111111              2.985185   \n",
       "\n",
       "       total_rooms_level  total_bedrooms_level  median_income_level  \n",
       "0                    1.0                   1.0                  3.0  \n",
       "1                    1.0                   1.0                  4.0  \n",
       "2                    4.0                   4.0                  4.0  \n",
       "3                    3.0                   3.0                  7.0  \n",
       "4                    4.0                   3.0                  4.0  \n",
       "...                  ...                   ...                  ...  \n",
       "16995                2.0                   3.0                  5.0  \n",
       "16996                2.0                   2.0                  6.0  \n",
       "16997                2.0                   2.0                  7.0  \n",
       "16998                2.0                   2.0                  4.0  \n",
       "16999                3.0                   3.0                  7.0  \n",
       "\n",
       "[17000 rows x 15 columns]"
      ]
     },
     "execution_count": 15,
     "metadata": {},
     "output_type": "execute_result"
    }
   ],
   "source": [
    "# 1구간 : ~ 0.5\n",
    "# 2구간 : 0.5~1 만달러\n",
    "# 3구간 : 1.0~1.5\n",
    "# 4구간 : 1.5~2.0\n",
    "# 5구간 : 2.0~2.5\n",
    "# 6구간 : 2.5~3.0\n",
    "# 7구간 : 3.0~3.5\n",
    "# 8구간 : 3.5~4.0\n",
    "# 9구간 : 4.0~4.5\n",
    "#10구간 : 4.5~\n",
    "train.loc[ train['median_income']>= 4.5 , \"median_income_level\"] = 10\n",
    "train.loc[ (train['median_income']> 4.0) & (train['median_income'] <= 4.5) , \"median_income_level\"] = 9\n",
    "train.loc[ (train['median_income']> 3.5) & (train['median_income'] <= 4.0) , \"median_income_level\"] = 8\n",
    "train.loc[ (train['median_income']> 3.0) & (train['median_income'] <= 3.5) , \"median_income_level\"] = 7\n",
    "train.loc[ (train['median_income']> 2.5) & (train['median_income'] <= 3.0) , \"median_income_level\"] = 6\n",
    "train.loc[ (train['median_income']> 2.0) & (train['median_income'] <= 2.5) , \"median_income_level\"] = 5\n",
    "train.loc[ (train['median_income']> 1.5) & (train['median_income'] <= 2.0) , \"median_income_level\"] = 4\n",
    "train.loc[ (train['median_income']> 1.0) & (train['median_income'] <= 1.5) , \"median_income_level\"] = 3\n",
    "train.loc[ (train['median_income']> 0.5) & (train['median_income'] <= 1.0) , \"median_income_level\"] = 2\n",
    "train.loc[ (train['median_income']<= 0.5) , \"median_income_level\"] = 1\n",
    "train"
   ]
  },
  {
   "cell_type": "code",
   "execution_count": 16,
   "id": "c9f98ab8",
   "metadata": {
    "execution": {
     "iopub.execute_input": "2022-09-22T04:37:58.582591Z",
     "iopub.status.busy": "2022-09-22T04:37:58.582215Z",
     "iopub.status.idle": "2022-09-22T04:37:59.054001Z",
     "shell.execute_reply": "2022-09-22T04:37:59.052796Z"
    },
    "papermill": {
     "duration": 0.48419,
     "end_time": "2022-09-22T04:37:59.056569",
     "exception": false,
     "start_time": "2022-09-22T04:37:58.572379",
     "status": "completed"
    },
    "tags": []
   },
   "outputs": [
    {
     "data": {
      "text/plain": [
       "<AxesSubplot:xlabel='total_rooms_level', ylabel='median_house_value'>"
      ]
     },
     "execution_count": 16,
     "metadata": {},
     "output_type": "execute_result"
    },
    {
     "data": {
      "image/png": "[encoded data removed]",
      "text/plain": [
       "<Figure size 432x288 with 1 Axes>"
      ]
     },
     "metadata": {
      "needs_background": "light"
     },
     "output_type": "display_data"
    }
   ],
   "source": [
    "import seaborn as sns\n",
    "\n",
    "sns.barplot(x='total_rooms_level', y='median_house_value', data=train )"
   ]
  },
  {
   "cell_type": "code",
   "execution_count": 17,
   "id": "26333951",
   "metadata": {
    "execution": {
     "iopub.execute_input": "2022-09-22T04:37:59.076769Z",
     "iopub.status.busy": "2022-09-22T04:37:59.076328Z",
     "iopub.status.idle": "2022-09-22T04:37:59.541481Z",
     "shell.execute_reply": "2022-09-22T04:37:59.540707Z"
    },
    "papermill": {
     "duration": 0.477664,
     "end_time": "2022-09-22T04:37:59.543502",
     "exception": false,
     "start_time": "2022-09-22T04:37:59.065838",
     "status": "completed"
    },
    "tags": []
   },
   "outputs": [
    {
     "data": {
      "text/plain": [
       "<AxesSubplot:xlabel='total_bedrooms_level', ylabel='median_house_value'>"
      ]
     },
     "execution_count": 17,
     "metadata": {},
     "output_type": "execute_result"
    },
    {
     "data": {
      "image/png": "[encoded data removed]",
      "text/plain": [
       "<Figure size 432x288 with 1 Axes>"
      ]
     },
     "metadata": {
      "needs_background": "light"
     },
     "output_type": "display_data"
    }
   ],
   "source": [
    "sns.barplot(x='total_bedrooms_level', y='median_house_value', data=train )"
   ]
  },
  {
   "cell_type": "code",
   "execution_count": 18,
   "id": "6b64bd2b",
   "metadata": {
    "execution": {
     "iopub.execute_input": "2022-09-22T04:37:59.564497Z",
     "iopub.status.busy": "2022-09-22T04:37:59.563846Z",
     "iopub.status.idle": "2022-09-22T04:37:59.586346Z",
     "shell.execute_reply": "2022-09-22T04:37:59.585537Z"
    },
    "papermill": {
     "duration": 0.035437,
     "end_time": "2022-09-22T04:37:59.588464",
     "exception": false,
     "start_time": "2022-09-22T04:37:59.553027",
     "status": "completed"
    },
    "tags": []
   },
   "outputs": [
    {
     "data": {
      "text/plain": [
       "longitude              -0.044982\n",
       "latitude               -0.144917\n",
       "housing_median_age      0.106758\n",
       "total_rooms             0.130991\n",
       "total_bedrooms          0.045783\n",
       "population             -0.027850\n",
       "households              0.061031\n",
       "median_income           0.691871\n",
       "median_house_value      1.000000\n",
       "room_household          0.150081\n",
       "bedrooms_household     -0.045668\n",
       "population_household   -0.042764\n",
       "total_rooms_level      -0.178247\n",
       "total_bedrooms_level   -0.049419\n",
       "median_income_level     0.587353\n",
       "Name: median_house_value, dtype: float64"
      ]
     },
     "execution_count": 18,
     "metadata": {},
     "output_type": "execute_result"
    }
   ],
   "source": [
    "train.corr()['median_house_value']"
   ]
  },
  {
   "cell_type": "code",
   "execution_count": 19,
   "id": "e540f415",
   "metadata": {
    "execution": {
     "iopub.execute_input": "2022-09-22T04:37:59.609710Z",
     "iopub.status.busy": "2022-09-22T04:37:59.609052Z",
     "iopub.status.idle": "2022-09-22T04:37:59.628234Z",
     "shell.execute_reply": "2022-09-22T04:37:59.626777Z"
    },
    "papermill": {
     "duration": 0.032593,
     "end_time": "2022-09-22T04:37:59.630759",
     "exception": false,
     "start_time": "2022-09-22T04:37:59.598166",
     "status": "completed"
    },
    "tags": []
   },
   "outputs": [
    {
     "data": {
      "text/html": [
       "<div>\n",
       "<style scoped>\n",
       "    .dataframe tbody tr th:only-of-type {\n",
       "        vertical-align: middle;\n",
       "    }\n",
       "\n",
       "    .dataframe tbody tr th {\n",
       "        vertical-align: top;\n",
       "    }\n",
       "\n",
       "    .dataframe thead th {\n",
       "        text-align: right;\n",
       "    }\n",
       "</style>\n",
       "<table border=\"1\" class=\"dataframe\">\n",
       "  <thead>\n",
       "    <tr style=\"text-align: right;\">\n",
       "      <th></th>\n",
       "      <th>longitude</th>\n",
       "      <th>latitude</th>\n",
       "      <th>housing_median_age</th>\n",
       "      <th>total_rooms</th>\n",
       "      <th>total_bedrooms</th>\n",
       "      <th>population</th>\n",
       "      <th>households</th>\n",
       "      <th>median_income</th>\n",
       "      <th>median_house_value</th>\n",
       "      <th>room_household</th>\n",
       "      <th>bedrooms_household</th>\n",
       "      <th>population_household</th>\n",
       "      <th>total_bedrooms_level</th>\n",
       "      <th>median_income_level</th>\n",
       "    </tr>\n",
       "    <tr>\n",
       "      <th>total_rooms_level</th>\n",
       "      <th></th>\n",
       "      <th></th>\n",
       "      <th></th>\n",
       "      <th></th>\n",
       "      <th></th>\n",
       "      <th></th>\n",
       "      <th></th>\n",
       "      <th></th>\n",
       "      <th></th>\n",
       "      <th></th>\n",
       "      <th></th>\n",
       "      <th></th>\n",
       "      <th></th>\n",
       "      <th></th>\n",
       "    </tr>\n",
       "  </thead>\n",
       "  <tbody>\n",
       "    <tr>\n",
       "      <th>1.0</th>\n",
       "      <td>4250</td>\n",
       "      <td>4250</td>\n",
       "      <td>4250</td>\n",
       "      <td>4250</td>\n",
       "      <td>4250</td>\n",
       "      <td>4250</td>\n",
       "      <td>4250</td>\n",
       "      <td>4250</td>\n",
       "      <td>4250</td>\n",
       "      <td>4250</td>\n",
       "      <td>4250</td>\n",
       "      <td>4250</td>\n",
       "      <td>4250</td>\n",
       "      <td>4250</td>\n",
       "    </tr>\n",
       "    <tr>\n",
       "      <th>2.0</th>\n",
       "      <td>4247</td>\n",
       "      <td>4247</td>\n",
       "      <td>4247</td>\n",
       "      <td>4247</td>\n",
       "      <td>4247</td>\n",
       "      <td>4247</td>\n",
       "      <td>4247</td>\n",
       "      <td>4247</td>\n",
       "      <td>4247</td>\n",
       "      <td>4247</td>\n",
       "      <td>4247</td>\n",
       "      <td>4247</td>\n",
       "      <td>4247</td>\n",
       "      <td>4247</td>\n",
       "    </tr>\n",
       "    <tr>\n",
       "      <th>3.0</th>\n",
       "      <td>4249</td>\n",
       "      <td>4249</td>\n",
       "      <td>4249</td>\n",
       "      <td>4249</td>\n",
       "      <td>4249</td>\n",
       "      <td>4249</td>\n",
       "      <td>4249</td>\n",
       "      <td>4249</td>\n",
       "      <td>4249</td>\n",
       "      <td>4249</td>\n",
       "      <td>4249</td>\n",
       "      <td>4249</td>\n",
       "      <td>4249</td>\n",
       "      <td>4249</td>\n",
       "    </tr>\n",
       "    <tr>\n",
       "      <th>4.0</th>\n",
       "      <td>4254</td>\n",
       "      <td>4254</td>\n",
       "      <td>4254</td>\n",
       "      <td>4254</td>\n",
       "      <td>4254</td>\n",
       "      <td>4254</td>\n",
       "      <td>4254</td>\n",
       "      <td>4254</td>\n",
       "      <td>4254</td>\n",
       "      <td>4254</td>\n",
       "      <td>4254</td>\n",
       "      <td>4254</td>\n",
       "      <td>4254</td>\n",
       "      <td>4254</td>\n",
       "    </tr>\n",
       "  </tbody>\n",
       "</table>\n",
       "</div>"
      ],
      "text/plain": [
       "                   longitude  latitude  housing_median_age  total_rooms  \\\n",
       "total_rooms_level                                                         \n",
       "1.0                     4250      4250                4250         4250   \n",
       "2.0                     4247      4247                4247         4247   \n",
       "3.0                     4249      4249                4249         4249   \n",
       "4.0                     4254      4254                4254         4254   \n",
       "\n",
       "                   total_bedrooms  population  households  median_income  \\\n",
       "total_rooms_level                                                          \n",
       "1.0                          4250        4250        4250           4250   \n",
       "2.0                          4247        4247        4247           4247   \n",
       "3.0                          4249        4249        4249           4249   \n",
       "4.0                          4254        4254        4254           4254   \n",
       "\n",
       "                   median_house_value  room_household  bedrooms_household  \\\n",
       "total_rooms_level                                                           \n",
       "1.0                              4250            4250                4250   \n",
       "2.0                              4247            4247                4247   \n",
       "3.0                              4249            4249                4249   \n",
       "4.0                              4254            4254                4254   \n",
       "\n",
       "                   population_household  total_bedrooms_level  \\\n",
       "total_rooms_level                                               \n",
       "1.0                                4250                  4250   \n",
       "2.0                                4247                  4247   \n",
       "3.0                                4249                  4249   \n",
       "4.0                                4254                  4254   \n",
       "\n",
       "                   median_income_level  \n",
       "total_rooms_level                       \n",
       "1.0                               4250  \n",
       "2.0                               4247  \n",
       "3.0                               4249  \n",
       "4.0                               4254  "
      ]
     },
     "execution_count": 19,
     "metadata": {},
     "output_type": "execute_result"
    }
   ],
   "source": [
    "train.groupby('total_rooms_level').count()"
   ]
  },
  {
   "cell_type": "markdown",
   "id": "f704f19f",
   "metadata": {
    "papermill": {
     "duration": 0.009491,
     "end_time": "2022-09-22T04:37:59.650157",
     "exception": false,
     "start_time": "2022-09-22T04:37:59.640666",
     "status": "completed"
    },
    "tags": []
   },
   "source": [
    "#### 3-6 실습 확인 - groupby\n",
    "#### 3-7 실습 확인 - totalbedroom - groupby로 묶어서 출력해 보기."
   ]
  }
 ],
 "metadata": {
  "kernelspec": {
   "display_name": "Python 3",
   "language": "python",
   "name": "python3"
  },
  "language_info": {
   "codemirror_mode": {
    "name": "ipython",
    "version": 3
   },
   "file_extension": ".py",
   "mimetype": "text/x-python",
   "name": "python",
   "nbconvert_exporter": "python",
   "pygments_lexer": "ipython3",
   "version": "3.7.12"
  },
  "papermill": {
   "default_parameters": {},
   "duration": 15.136389,
   "end_time": "2022-09-22T04:38:00.382042",
   "environment_variables": {},
   "exception": null,
   "input_path": "__notebook__.ipynb",
   "output_path": "__notebook__.ipynb",
   "parameters": {},
   "start_time": "2022-09-22T04:37:45.245653",
   "version": "2.3.4"
  }
 },
 "nbformat": 4,
 "nbformat_minor": 5
}
