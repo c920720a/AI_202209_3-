{
  "nbformat": 4,
  "nbformat_minor": 0,
  "metadata": {
    "colab": {
      "provenance": [],
      "collapsed_sections": []
    },
    "kernelspec": {
      "name": "python3",
      "display_name": "Python 3"
    },
    "language_info": {
      "name": "python"
    }
  },
  "cells": [
    {
      "cell_type": "markdown",
      "source": [
        "## **파이썬 기본 리뷰**"
      ],
      "metadata": {
        "id": "F7R2gMhkRC2g"
      }
    },
    {
      "cell_type": "markdown",
      "source": [
        "01. 수업 오리엔테이션 및 유의사항 안내\n",
        "02. gmail 공유\n",
        "03. 간단한 자기소개 : 이름, 신청동기, 취미, 바라는 목표 등\n",
        "04. 기본 경험 유무 확인\n",
        "        - python 기본 경험 유무\n",
        "        - python 책 한 권 이상 본 적 있는지\n",
        "        - pandas 라이브러리 경험\n",
        "        - matplotlib 라이브러리 사용 경험\n",
        "        - 머신러닝 모델 구현 유무\n",
        "        - 딥러닝 모델 구현 유무\n",
        "        - pandas의 iloc와 loc 차이 아는지\n",
        "        - matplotlib의 t데이터를 이용하여 산점도 그릴 수 있는지\n",
        "05. google colab에서 파이썬 코드 실행해보기\n",
        "        01. 구글 로그인\n",
        "        02. google colab을 검색하여 이동\n",
        "        03. 새 노트북 만들기\n",
        "        04. 시작화면 확인\n",
        "        05. 기본 코드 입력 후 SHIFT+ENTET(실행)\n",
        "        06. 결과가 나오고, 다음 셀이 생성되면서 다음 셀로 이동"
      ],
      "metadata": {
        "id": "6Lrq9n-AASHS"
      }
    },
    {
      "cell_type": "markdown",
      "source": [
        "### python 기본 지식 확인\n",
        "* print(____, end=\" \") : end는 어떤 역할을 할까요?\n",
        "      - 문장의 끝을 지정합니다. (태찬)\n",
        "* print(____, sep=\" \") : sep는 어떤 역할을 할까요?\n",
        "      - 모르겠습니다. (지윤, 태웅) "
      ],
      "metadata": {
        "id": "b2Af_KtTBl3P"
      }
    },
    {
      "cell_type": "code",
      "execution_count": 5,
      "metadata": {
        "colab": {
          "base_uri": "https://localhost:8080/"
        },
        "id": "XpoSJb2nQ8pb",
        "outputId": "6133da2f-8380-40de-cbe4-e38b8e1b7160"
      },
      "outputs": [
        {
          "output_type": "stream",
          "name": "stdout",
          "text": [
            "10\n",
            "\n",
            "Hello\n",
            "Hello2 Hello3 Hello4\n"
          ]
        }
      ],
      "source": [
        "print(10)\n",
        "print( )                                   # 출력\n",
        "print(\"Hello\")                             # \"문자열\"을 출력\n",
        "print(\"Hello2\", end=' ')                   # 출력된 '문자열' 끝에 ' '값을 출력\n",
        "print(\"Hello3\", \"Hello4\", sep=' ')         # '문자열' 출력값 사이에 ' '을 출력"
      ]
    },
    {
      "cell_type": "markdown",
      "source": [
        "#### google colab 단축키 입니다.\n",
        "* SHIFT + ENTER : 실행하고 다음셀로 이동\n",
        "* CTRL + ENTER : 현재 셀을 실행하고 현재 셀에서 있는 것.\n",
        "* CTRL + MM : 설명을 넣어주는 것으로 변경한다.\n",
        "* CTRL + MY : 프로그램을 실행할 수 있는 셀로 변경\n",
        "* CTRL + MA : 앞쪽에 셀을 하나 추가한다.\n",
        "* CTRL + MB : 아래쪽에 셀을 하나 추가한다.\n",
        "* CTRL + MD : 대상의 셀을 삭제한다."
      ],
      "metadata": {
        "id": "gg_H-c0CCw_V"
      }
    },
    {
      "cell_type": "code",
      "source": [
        "print(\"Hello4\", end='\\n\\n')\n",
        "print(\"Hello5\", end=' ')\n",
        "\n",
        "print('\\n\\n')\n",
        "print(\"Hello4\", \"Hello4\", \"Hello4\", \"Hello4\", sep=' ')"
      ],
      "metadata": {
        "colab": {
          "base_uri": "https://localhost:8080/"
        },
        "id": "HM7RuW9pCqV-",
        "outputId": "80cb6d16-606a-42d6-9825-d460101d2529"
      },
      "execution_count": 7,
      "outputs": [
        {
          "output_type": "stream",
          "name": "stdout",
          "text": [
            "Hello4\n",
            "\n",
            "Hello5 \n",
            "\n",
            "\n",
            "Hello4 Hello4 Hello4 Hello4\n"
          ]
        }
      ]
    },
    {
      "cell_type": "code",
      "source": [
        "# 변수명\n",
        "a = 4         # 정수 \n",
        "a2 = 4.3      # 실수 \n",
        "ab = \"Hello\"  # 문자열 \n",
        "ab = 'Hello'  # 문자열 \n",
        "abc = a\n",
        "\n",
        "print(a, a2, ab, abc)"
      ],
      "metadata": {
        "colab": {
          "base_uri": "https://localhost:8080/"
        },
        "id": "NixJhi2vES6x",
        "outputId": "c58a458e-3c75-42ee-ab80-473a3f95255d"
      },
      "execution_count": 8,
      "outputs": [
        {
          "output_type": "stream",
          "name": "stdout",
          "text": [
            "4 4.3 Hello 4\n"
          ]
        }
      ]
    },
    {
      "cell_type": "markdown",
      "source": [
        "#### input() : 사용자로부터 입력을 받겠다."
      ],
      "metadata": {
        "id": "5G-LeCE0Eyyc"
      }
    },
    {
      "cell_type": "code",
      "source": [
        "a = input()"
      ],
      "metadata": {
        "colab": {
          "base_uri": "https://localhost:8080/"
        },
        "id": "S1D5sCEzEazf",
        "outputId": "e4bf7329-b105-442e-ebb8-a6bd391713cd"
      },
      "execution_count": 9,
      "outputs": [
        {
          "name": "stdout",
          "output_type": "stream",
          "text": [
            "test\n"
          ]
        }
      ]
    },
    {
      "cell_type": "code",
      "source": [
        "print(a)"
      ],
      "metadata": {
        "colab": {
          "base_uri": "https://localhost:8080/"
        },
        "id": "K6hveFlnEfA2",
        "outputId": "813aea39-14d1-4d1a-fcaf-d086967ac589"
      },
      "execution_count": 10,
      "outputs": [
        {
          "output_type": "stream",
          "name": "stdout",
          "text": [
            "test\n"
          ]
        }
      ]
    },
    {
      "cell_type": "code",
      "source": [
        "name = input(\"당신의 이름은?\") \n",
        "print(name)"
      ],
      "metadata": {
        "colab": {
          "base_uri": "https://localhost:8080/"
        },
        "id": "mgz8J-JtEhzW",
        "outputId": "dff94026-c09f-4fee-b864-88c38de83123"
      },
      "execution_count": 11,
      "outputs": [
        {
          "output_type": "stream",
          "name": "stdout",
          "text": [
            "당신의 이름은?Yurim\n",
            "Yurim\n"
          ]
        }
      ]
    },
    {
      "cell_type": "code",
      "source": [
        "age = input(\"당신의 나이는?\") \n",
        "print(age)"
      ],
      "metadata": {
        "colab": {
          "base_uri": "https://localhost:8080/"
        },
        "id": "yajTSlf4ElCd",
        "outputId": "52a15ee3-add4-4e1d-8bdc-7b7abd996e1c"
      },
      "execution_count": 12,
      "outputs": [
        {
          "output_type": "stream",
          "name": "stdout",
          "text": [
            "당신의 나이는?31\n",
            "31\n"
          ]
        }
      ]
    },
    {
      "cell_type": "markdown",
      "source": [
        "#### 자료형 출력\n",
        "* type(___변수___) : 자료형을 출력\n",
        "  - int   : 정수\n",
        "  - float : 실수 \n",
        "  - str   : 문자열\n",
        "  - list  : 리스트\n",
        "  - dict  : 딕셔너리\n",
        "  - pandas : 판다스 자료형"
      ],
      "metadata": {
        "id": "DRUkHrzuE4Vo"
      }
    },
    {
      "cell_type": "markdown",
      "source": [
        "* 숫자 + 숫자 => 계산\n",
        "* 숫자 + \"문자열\" => 에러 발생\n"
      ],
      "metadata": {
        "id": "cZAZ93ojFHzp"
      }
    },
    {
      "cell_type": "markdown",
      "source": [
        "* 자료형 변환 \n",
        "  - 내가 변경하고 싶은 자료형 변경\n",
        "  - int( 문자열 ) => 숫자형태의 문자열이 숫자로 변경된다."
      ],
      "metadata": {
        "id": "dJ_n-EspFMhG"
      }
    },
    {
      "cell_type": "code",
      "source": [
        "print( type(age) )"
      ],
      "metadata": {
        "colab": {
          "base_uri": "https://localhost:8080/"
        },
        "id": "2LUuIip5Eo2h",
        "outputId": "fe3fb018-4372-4e25-bada-9c9169da1171"
      },
      "execution_count": 13,
      "outputs": [
        {
          "output_type": "stream",
          "name": "stdout",
          "text": [
            "<class 'str'>\n"
          ]
        }
      ]
    },
    {
      "cell_type": "code",
      "source": [
        "a = int( \"1000\" )\n",
        "print( a, type(a) )"
      ],
      "metadata": {
        "colab": {
          "base_uri": "https://localhost:8080/"
        },
        "id": "VkfQdb4UEreu",
        "outputId": "6c19dbaf-d38b-4d27-a785-e21be7105b18"
      },
      "execution_count": 14,
      "outputs": [
        {
          "output_type": "stream",
          "name": "stdout",
          "text": [
            "1000 <class 'int'>\n"
          ]
        }
      ]
    },
    {
      "cell_type": "markdown",
      "source": [
        "#### 연산자\n",
        "* 사칙 연산자 : +, -, *, /\n",
        "* 기타 연산자 : **(제곱), %(나머지), //(몫)\n",
        "      - 10 ** 2 = 10 * 10\n",
        "      - 10 ** 4 = 10 * 10 * 10 * 10\n",
        "      - 10 % 2  = 0\n",
        "      - 100 // 2 = 50\n",
        "* 비교 연산자\n",
        "      ==  같다.\n",
        "      !=  다르다.\n",
        "      >=  크거나 같다\n",
        "      <=  작거나 같다\n",
        "      >   크다 \n",
        "      <   작다 "
      ],
      "metadata": {
        "id": "vmpcGf-GFXtH"
      }
    },
    {
      "cell_type": "code",
      "source": [
        "print(9 + 10) # 더하기\n",
        "print(9 - 10) # 빼기\n",
        "print(30 / 5) # 나누기\n",
        "print(5 * 3) # 곱하기\n",
        "print(2**5) # 제곱 연산 2*2*2*2*2\n",
        "print(17 % 4) # 나머지 1\n",
        "print(17//4) # 몫 4"
      ],
      "metadata": {
        "colab": {
          "base_uri": "https://localhost:8080/"
        },
        "id": "U_UIfJtVEs82",
        "outputId": "00193822-8e4c-4599-ee83-6d6c533a44c2"
      },
      "execution_count": 15,
      "outputs": [
        {
          "output_type": "stream",
          "name": "stdout",
          "text": [
            "19\n",
            "-1\n",
            "6.0\n",
            "15\n",
            "32\n",
            "1\n",
            "4\n"
          ]
        }
      ]
    },
    {
      "cell_type": "code",
      "source": [
        "print( 3 == 3 )  # True (1이상)\n",
        "print( 3 != 3 )   # False (0)\n",
        "print( 3 >= 1 )\n",
        "print( 3 <= 1 )"
      ],
      "metadata": {
        "colab": {
          "base_uri": "https://localhost:8080/"
        },
        "id": "k91efS3-FyCY",
        "outputId": "d85258c2-46de-4b87-98cc-47586e2419fe"
      },
      "execution_count": 16,
      "outputs": [
        {
          "output_type": "stream",
          "name": "stdout",
          "text": [
            "True\n",
            "False\n",
            "True\n",
            "False\n"
          ]
        }
      ]
    },
    {
      "cell_type": "markdown",
      "source": [
        "* and 연산자 : \n",
        "      True and True  : True\n",
        "      False and True : False\n",
        "      (1 == 3) and (1 > 0) ; False\n",
        "\n",
        "* or 연산자 \n",
        "      True or False : True\n",
        "      False or False\n",
        "      (1 == 3) or (1 > 0) \n",
        "      False or True  : True\n",
        "\n",
        "* not \n",
        "      not True  : False\n",
        "      not False : True"
      ],
      "metadata": {
        "id": "fdWRGM0GIyuQ"
      }
    },
    {
      "cell_type": "markdown",
      "source": [
        "* in 연산자 : 어디 값 안에 해당값이 있는가?"
      ],
      "metadata": {
        "id": "eDijQVsvIpps"
      }
    },
    {
      "cell_type": "code",
      "source": [
        "1 in [1,2,3,4,5]"
      ],
      "metadata": {
        "colab": {
          "base_uri": "https://localhost:8080/"
        },
        "id": "Kj3Eab77F1pP",
        "outputId": "1b1e61e5-1976-473f-c474-67a8032b8810"
      },
      "execution_count": 17,
      "outputs": [
        {
          "output_type": "execute_result",
          "data": {
            "text/plain": [
              "True"
            ]
          },
          "metadata": {},
          "execution_count": 17
        }
      ]
    },
    {
      "cell_type": "code",
      "source": [
        "print(\"{} 와 {}의 합은 {}입니다.\".format(2, 5, 7))"
      ],
      "metadata": {
        "colab": {
          "base_uri": "https://localhost:8080/"
        },
        "id": "4QlEaLYKITz9",
        "outputId": "1f82b17a-99f0-4110-9537-85e0d4c5fbc6"
      },
      "execution_count": 18,
      "outputs": [
        {
          "output_type": "stream",
          "name": "stdout",
          "text": [
            "2 와 5의 합은 7입니다.\n"
          ]
        }
      ]
    },
    {
      "cell_type": "markdown",
      "source": [
        "    (실습) 영화관 출입시, 당신의 나이는 얼마죠?\n",
        "    당신의 나이가 15세 이상이면 \n",
        "    '__세이군요'\n",
        "    '입장해 주세요.'"
      ],
      "metadata": {
        "id": "6vMp0NiLIXGC"
      }
    },
    {
      "cell_type": "code",
      "source": [
        "age = input(\"당신의 나이는?\")\n",
        "age = int(age)\n",
        "\n",
        "if (age>=15):\n",
        "  print(\"{}세 이군요.\".format(age) )\n",
        "  print(\"입장이 가능합니다.\")"
      ],
      "metadata": {
        "colab": {
          "base_uri": "https://localhost:8080/"
        },
        "id": "VF-eMD9YIVMN",
        "outputId": "d7d05b6e-21df-4586-84d3-aa2d40d05590"
      },
      "execution_count": 19,
      "outputs": [
        {
          "output_type": "stream",
          "name": "stdout",
          "text": [
            "당신의 나이는?31\n",
            "31세 이군요.\n",
            "입장이 가능합니다.\n"
          ]
        }
      ]
    },
    {
      "cell_type": "markdown",
      "source": [
        "#### if문\n",
        "    (가장 기본적인 형태)\n",
        "    if  (조건식):\n",
        "         실행문1\n",
        "\n",
        "    (가장 기본적인 형태)\n",
        "    if  (조건식):\n",
        "        실행문1\n",
        "        실행문2\n",
        "\n",
        "    (형식3)\n",
        "    if  (조건식):\n",
        "        실행문1\n",
        "        실행문2\n",
        "    else:\n",
        "        조건을 만족하지 않을경우, 실행문1\n",
        "        조건을 만족하지 않을경우, 실행문2"
      ],
      "metadata": {
        "id": "Ot68yFEMJHon"
      }
    },
    {
      "cell_type": "code",
      "source": [
        "## 4.5이상 A+\n",
        "## 4.0이상 A\n",
        "## 3.5이상 B+\n",
        "## ..\n",
        "grade = 3.7\n",
        "\n",
        "if grade>=4.5:\n",
        "  print(\"A+\")\n",
        "\n",
        "if grade>=4.0:\n",
        "  print(\"A\")\n",
        "\n",
        "if grade>=3.5:\n",
        "  print(\"B+\")"
      ],
      "metadata": {
        "colab": {
          "base_uri": "https://localhost:8080/"
        },
        "id": "y_tDyhBJIkl8",
        "outputId": "90fe6efd-75e9-4952-ce1a-62d22796ab1d"
      },
      "execution_count": 20,
      "outputs": [
        {
          "output_type": "stream",
          "name": "stdout",
          "text": [
            "B+\n"
          ]
        }
      ]
    },
    {
      "cell_type": "markdown",
      "source": [
        "#### for문\n",
        "    3-6 [실습] 1-10까지 출력해보기\n",
        "    3-7 [실습] 1-10까지 홀수만 출력해 보기\n",
        "    3-8 [실습] 1-100까지 3의 배수, 5의 배수 출력해 보기 \n",
        "    3-9 [도전] 구구단 출력해 보기 "
      ],
      "metadata": {
        "id": "s-7ZlqbrJ2xd"
      }
    },
    {
      "cell_type": "code",
      "source": [
        "# range(시작값, 끝값, 증가값)\n",
        "# range(시작값, 끝값)  # 증가값은 기본값으로 1이다.\n",
        "\n",
        "for a  in range(1,11,1):\n",
        "  print(a)"
      ],
      "metadata": {
        "colab": {
          "base_uri": "https://localhost:8080/"
        },
        "id": "8FQSUSTIJdYN",
        "outputId": "3a894a03-d780-469a-e002-592660315867"
      },
      "execution_count": 21,
      "outputs": [
        {
          "output_type": "stream",
          "name": "stdout",
          "text": [
            "1\n",
            "2\n",
            "3\n",
            "4\n",
            "5\n",
            "6\n",
            "7\n",
            "8\n",
            "9\n",
            "10\n"
          ]
        }
      ]
    },
    {
      "cell_type": "code",
      "source": [
        "# 3-7 [실습] 1-10까지 홀수만 출력해 보기\n",
        "for a  in range(1,11,2):\n",
        "  print(a)"
      ],
      "metadata": {
        "colab": {
          "base_uri": "https://localhost:8080/"
        },
        "id": "2sKihcjdJehk",
        "outputId": "a2c716b3-847f-400f-c805-e0bd3abad43b"
      },
      "execution_count": 22,
      "outputs": [
        {
          "output_type": "stream",
          "name": "stdout",
          "text": [
            "1\n",
            "3\n",
            "5\n",
            "7\n",
            "9\n"
          ]
        }
      ]
    },
    {
      "cell_type": "code",
      "source": [
        "for i in range(1, 101):\n",
        "    if (i % 3 == 0) | (i % 5 == 0):\n",
        "      print(i)"
      ],
      "metadata": {
        "colab": {
          "base_uri": "https://localhost:8080/"
        },
        "id": "hmOFpc0AJf4V",
        "outputId": "8e49c655-8e7d-4559-dd37-d6cb3024868f"
      },
      "execution_count": 23,
      "outputs": [
        {
          "output_type": "stream",
          "name": "stdout",
          "text": [
            "3\n",
            "5\n",
            "6\n",
            "9\n",
            "10\n",
            "12\n",
            "15\n",
            "18\n",
            "20\n",
            "21\n",
            "24\n",
            "25\n",
            "27\n",
            "30\n",
            "33\n",
            "35\n",
            "36\n",
            "39\n",
            "40\n",
            "42\n",
            "45\n",
            "48\n",
            "50\n",
            "51\n",
            "54\n",
            "55\n",
            "57\n",
            "60\n",
            "63\n",
            "65\n",
            "66\n",
            "69\n",
            "70\n",
            "72\n",
            "75\n",
            "78\n",
            "80\n",
            "81\n",
            "84\n",
            "85\n",
            "87\n",
            "90\n",
            "93\n",
            "95\n",
            "96\n",
            "99\n",
            "100\n"
          ]
        }
      ]
    },
    {
      "cell_type": "code",
      "source": [
        "for i in range(1,10,1):\n",
        "  print(i)\n",
        "  for j in range(1,10,1):\n",
        "    print(\"{} * {} = {}\".format(i, j, i*j))"
      ],
      "metadata": {
        "colab": {
          "base_uri": "https://localhost:8080/"
        },
        "id": "R9xcv2LCJlQc",
        "outputId": "d1551aa2-523b-4b11-8f82-cc7930dd8737"
      },
      "execution_count": 24,
      "outputs": [
        {
          "output_type": "stream",
          "name": "stdout",
          "text": [
            "1\n",
            "1 * 1 = 1\n",
            "1 * 2 = 2\n",
            "1 * 3 = 3\n",
            "1 * 4 = 4\n",
            "1 * 5 = 5\n",
            "1 * 6 = 6\n",
            "1 * 7 = 7\n",
            "1 * 8 = 8\n",
            "1 * 9 = 9\n",
            "2\n",
            "2 * 1 = 2\n",
            "2 * 2 = 4\n",
            "2 * 3 = 6\n",
            "2 * 4 = 8\n",
            "2 * 5 = 10\n",
            "2 * 6 = 12\n",
            "2 * 7 = 14\n",
            "2 * 8 = 16\n",
            "2 * 9 = 18\n",
            "3\n",
            "3 * 1 = 3\n",
            "3 * 2 = 6\n",
            "3 * 3 = 9\n",
            "3 * 4 = 12\n",
            "3 * 5 = 15\n",
            "3 * 6 = 18\n",
            "3 * 7 = 21\n",
            "3 * 8 = 24\n",
            "3 * 9 = 27\n",
            "4\n",
            "4 * 1 = 4\n",
            "4 * 2 = 8\n",
            "4 * 3 = 12\n",
            "4 * 4 = 16\n",
            "4 * 5 = 20\n",
            "4 * 6 = 24\n",
            "4 * 7 = 28\n",
            "4 * 8 = 32\n",
            "4 * 9 = 36\n",
            "5\n",
            "5 * 1 = 5\n",
            "5 * 2 = 10\n",
            "5 * 3 = 15\n",
            "5 * 4 = 20\n",
            "5 * 5 = 25\n",
            "5 * 6 = 30\n",
            "5 * 7 = 35\n",
            "5 * 8 = 40\n",
            "5 * 9 = 45\n",
            "6\n",
            "6 * 1 = 6\n",
            "6 * 2 = 12\n",
            "6 * 3 = 18\n",
            "6 * 4 = 24\n",
            "6 * 5 = 30\n",
            "6 * 6 = 36\n",
            "6 * 7 = 42\n",
            "6 * 8 = 48\n",
            "6 * 9 = 54\n",
            "7\n",
            "7 * 1 = 7\n",
            "7 * 2 = 14\n",
            "7 * 3 = 21\n",
            "7 * 4 = 28\n",
            "7 * 5 = 35\n",
            "7 * 6 = 42\n",
            "7 * 7 = 49\n",
            "7 * 8 = 56\n",
            "7 * 9 = 63\n",
            "8\n",
            "8 * 1 = 8\n",
            "8 * 2 = 16\n",
            "8 * 3 = 24\n",
            "8 * 4 = 32\n",
            "8 * 5 = 40\n",
            "8 * 6 = 48\n",
            "8 * 7 = 56\n",
            "8 * 8 = 64\n",
            "8 * 9 = 72\n",
            "9\n",
            "9 * 1 = 9\n",
            "9 * 2 = 18\n",
            "9 * 3 = 27\n",
            "9 * 4 = 36\n",
            "9 * 5 = 45\n",
            "9 * 6 = 54\n",
            "9 * 7 = 63\n",
            "9 * 8 = 72\n",
            "9 * 9 = 81\n"
          ]
        }
      ]
    },
    {
      "cell_type": "code",
      "source": [
        "### 함수 정의 및 실행 \n",
        "def plus():\n",
        "  pass\n",
        "\n",
        "plus()"
      ],
      "metadata": {
        "id": "HcqZgIn1JpUU"
      },
      "execution_count": 25,
      "outputs": []
    },
    {
      "cell_type": "code",
      "source": [
        "### 함수 정의 및 실행 \n",
        "def plus1():\n",
        "  print(\"함수 실행\")"
      ],
      "metadata": {
        "id": "qVVLy9G4JrJL"
      },
      "execution_count": 26,
      "outputs": []
    },
    {
      "cell_type": "code",
      "source": [
        "plus1()"
      ],
      "metadata": {
        "colab": {
          "base_uri": "https://localhost:8080/"
        },
        "id": "iHYFWwxxJsGt",
        "outputId": "76c0bf7c-d3c7-46cb-818b-342f3aee37b5"
      },
      "execution_count": 27,
      "outputs": [
        {
          "output_type": "stream",
          "name": "stdout",
          "text": [
            "함수 실행\n"
          ]
        }
      ]
    },
    {
      "cell_type": "code",
      "source": [
        "def plus2(num1, num2):\n",
        "  print(\"두개의 값 더하기 : \", num1+num2)\n",
        "  \n",
        "plus2(10, 100)"
      ],
      "metadata": {
        "colab": {
          "base_uri": "https://localhost:8080/"
        },
        "id": "rQCw6kVXJs1T",
        "outputId": "efcfa669-09fb-48d2-dcf0-6c243647976c"
      },
      "execution_count": 28,
      "outputs": [
        {
          "output_type": "stream",
          "name": "stdout",
          "text": [
            "두개의 값 더하기 :  110\n"
          ]
        }
      ]
    },
    {
      "cell_type": "code",
      "source": [
        "def plus3(num1, num2):\n",
        "  print(\"두개의 값 더하기 : \", num1+num2)\n",
        "  return num1 + num2 \n",
        "  \n",
        "result = plus3(10, 100)\n",
        "print(\"두개의 값 더한 것의 *100 = \", result*100)"
      ],
      "metadata": {
        "colab": {
          "base_uri": "https://localhost:8080/"
        },
        "id": "TXJje_BxJtt1",
        "outputId": "efda5ca9-3bdd-48e1-b573-253f7b82290d"
      },
      "execution_count": 29,
      "outputs": [
        {
          "output_type": "stream",
          "name": "stdout",
          "text": [
            "두개의 값 더하기 :  110\n",
            "두개의 값 더한 것의 *100 =  11000\n"
          ]
        }
      ]
    },
    {
      "cell_type": "code",
      "source": [
        "def myprint(a, endA='\\n'):\n",
        "  print(a, end=endA)\n",
        "  # return 999  # 정상적으로 마칠 경우, 999를 넘겨준다.\n",
        "  \n"
      ],
      "metadata": {
        "id": "-wkwLmcoJumO"
      },
      "execution_count": 30,
      "outputs": []
    },
    {
      "cell_type": "code",
      "source": [
        "myprint(\"Hello\", endA='\\n\\n\\n')\n",
        "myprint(\"Hello\")\n",
        "myprint(\"Hello\")"
      ],
      "metadata": {
        "colab": {
          "base_uri": "https://localhost:8080/"
        },
        "id": "JPLJK-PtJvWU",
        "outputId": "f88c75b4-5a9b-4b61-d859-5e018d189bc5"
      },
      "execution_count": 31,
      "outputs": [
        {
          "output_type": "stream",
          "name": "stdout",
          "text": [
            "Hello\n",
            "\n",
            "\n",
            "Hello\n",
            "Hello\n"
          ]
        }
      ]
    },
    {
      "cell_type": "code",
      "source": [
        "def myprint1(a, a1, a2, endA='\\n'):\n",
        "  print(a, end=endA)"
      ],
      "metadata": {
        "id": "ZsOoujr2JwPM"
      },
      "execution_count": 32,
      "outputs": []
    },
    {
      "cell_type": "markdown",
      "source": [
        "### 아나콘다 설치하기\n",
        "    01 검색('anaconda archive')하기\n",
        "\n",
        "    02 설치 저장소로 가서 원하는 버전을 선택하기\n",
        "       https://repo.anaconda.com/archive/\n",
        "       Anaconda3 [2 : python2, 3: python3 ]\n",
        "\n",
        "    03 2022.05버전으로 설치 \n",
        "       [Window용] Anaconda3-2022.05-Windows-x86_64.exe\n",
        "  \n",
        "    04 설치 진행 \n",
        "       설치 경로 : C:\\Users\\[사용자명]\\anaconda3\n",
        "   \n",
        "    05 설치 후, python 버전 확인\n",
        "       anaconda prompt 검색 후, 실행\n",
        "       python --version\n",
        "       현재 버전 : 3.9.12\n",
        "   \n",
        "       anaconda 버전 확인 \n",
        "       conda --version \n",
        "       현재 버전 : 4.12.0"
      ],
      "metadata": {
        "id": "LdefexLfKvJm"
      }
    },
    {
      "cell_type": "code",
      "source": [],
      "metadata": {
        "id": "0pnJTiMCK4TU"
      },
      "execution_count": null,
      "outputs": []
    }
  ]
}