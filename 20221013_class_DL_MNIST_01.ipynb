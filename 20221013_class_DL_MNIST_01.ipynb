{
  "nbformat": 4,
  "nbformat_minor": 0,
  "metadata": {
    "colab": {
      "provenance": [],
      "collapsed_sections": []
    },
    "kernelspec": {
      "name": "python3",
      "display_name": "Python 3"
    },
    "language_info": {
      "name": "python"
    }
  },
  "cells": [
    {
      "cell_type": "markdown",
      "source": [
        "## Keras를 이용한 딥러닝 손글씨 인식\n",
        "\n",
        "### 학습내용\n",
        "- MNIST 데이터 셋을 활용하여 간단한 딥러닝을 구현해본다.\n",
        "\n",
        "### 라이브러리 불러오기\n",
        "- Tensorflow\n",
        "- Keras\n",
        "- Pytorch\n",
        "\n",
        "### 환경\n",
        "- google colab\n",
        "- tensorflow 2.8.0\n",
        "- keras 2.8.0\n",
        "- python 3.7.13\n"
      ],
      "metadata": {
        "id": "rSSOk0sa93-s"
      }
    },
    {
      "cell_type": "markdown",
      "source": [
        "## 01. 라이브러리 임포트"
      ],
      "metadata": {
        "id": "GGn56QOy-Tqv"
      }
    },
    {
      "cell_type": "code",
      "execution_count": 4,
      "metadata": {
        "id": "_0Jh_vQ19xMa"
      },
      "outputs": [],
      "source": [
        "import tensorflow as tf\n",
        "import keras\n",
        "import sys\n",
        "\n",
        "import numpy as np\n",
        "import matplotlib"
      ]
    },
    {
      "cell_type": "code",
      "source": [
        "print(tf.__version__)\n",
        "print(keras.__version__)\n",
        "print(sys.version)"
      ],
      "metadata": {
        "colab": {
          "base_uri": "https://localhost:8080/"
        },
        "id": "EU4qv-4Z-Y7y",
        "outputId": "a7923496-b0a6-4c07-e6b6-87cf86a02ec9"
      },
      "execution_count": 3,
      "outputs": [
        {
          "output_type": "stream",
          "name": "stdout",
          "text": [
            "2.9.2\n",
            "2.9.0\n",
            "3.7.14 (default, Sep  8 2022, 00:06:44) \n",
            "[GCC 7.5.0]\n"
          ]
        }
      ]
    },
    {
      "cell_type": "markdown",
      "source": [
        "## 02. 케라스(Keras) 이해\n",
        "### 케라스(Keras) 의미 이해\n",
        "- ONEIROS(Open-ended Neuro-Electronic Intelligent Robot Operating System) 프로젝트 일부\n",
        "- 오네이로스의 의미는 꿈을 의인화 시킨 신이다.\n",
        "\n",
        "### 케라스(Keras) 주요 특징\n",
        "- 개발 및 유지보수 : 프랑소와 쏠레(Francois Chollet)\n",
        "- 모듈화(Modularity) : 모듈은 독립적이고 최소한의 제약사항으로 연결\n",
        "- 최소주의(Minimalism) : 각 모듈은 짧고 간결하다\n",
        "- 쉬운 확장성 : 새로운 클래스나 함수로 모듈을 아주 쉽게 추가\n",
        "- 파이썬 기반 : 파이썬 코드로 모델들이 정의\n",
        "\n",
        "### 케라스(Keras) 딥러닝 모델 만들기 절차 이해\n",
        "가. 데이터 셋 생성 및 데이터 형태 맞추기.\n",
        "- 데이터 준비(훈련셋, 검증셋, 시험셋 등)\n",
        "- 딥러닝 모델의 학습 및 평가를 위한 데이터 형태 맞추기(포맷 변환)\n",
        "\n",
        "나. 모델 만들기\n",
        "- 모델(Sequential)을 생성 후 레이어를 추가하여 구성\n",
        "- 복잡한 모델 구성 시 Keras API를 사용\n",
        "\n",
        "다. 모델 학습과정 설정하기\n",
        "- 학습에 대한 설정 compile()\n",
        "- 학습에 대한 설정, 손실 함수 및 최적화 방법 정의\n",
        "\n",
        "라. 모델 학습\n",
        "- 모델을 훈련셋(train)으로 학습\n",
        "- fit() 함수\n",
        "\n",
        "마. 학습과정 살펴보기\n",
        "- 훈련셋, 검증셋의 손실 및 정확도 측정\n",
        "\n",
        "바. 모델 평가\n",
        "- evaluate()\n",
        "- 준비된 시험셋으로 학습 모델 평가\n",
        "\n",
        "사. 모델 사용하기\n",
        "- predict()\n"
      ],
      "metadata": {
        "id": "luZOVLvU-sKS"
      }
    },
    {
      "cell_type": "code",
      "source": [
        "# 사용할 패키지 불러오기\n",
        "from keras.utils import np_utils\n",
        "from keras.datasets import mnist\n",
        "from keras.models import Sequential\n",
        "from keras.layers import Dense, Activation"
      ],
      "metadata": {
        "id": "FD6PfMg4-grx"
      },
      "execution_count": 5,
      "outputs": []
    },
    {
      "cell_type": "code",
      "source": [
        "# 데이터셋 생성하기\n",
        "(X_train, y_train), (X_test, y_test) = mnist.load_data()"
      ],
      "metadata": {
        "colab": {
          "base_uri": "https://localhost:8080/"
        },
        "id": "2uB1EJ1WFhBG",
        "outputId": "916737b5-4f37-4ec2-fe72-d656fc1e5f82"
      },
      "execution_count": 6,
      "outputs": [
        {
          "output_type": "stream",
          "name": "stdout",
          "text": [
            "Downloading data from https://storage.googleapis.com/tensorflow/tf-keras-datasets/mnist.npz\n",
            "11490434/11490434 [==============================] - 0s 0us/step\n"
          ]
        }
      ]
    },
    {
      "cell_type": "code",
      "source": [
        "import matplotlib.pyplot as plt"
      ],
      "metadata": {
        "id": "6OSXtBsOFnkc"
      },
      "execution_count": 7,
      "outputs": []
    },
    {
      "cell_type": "markdown",
      "source": [
        "## 03. 손글씨 데이터 시각화\n",
        "- X_train : 손글씨 그림으 픽셀 정보(28*28) 총 784개의 픽셀 정보\n",
        "- y_train : 손글씨 그림의 숫자(0~9) 정보"
      ],
      "metadata": {
        "id": "TFDllcgiFr4J"
      }
    },
    {
      "cell_type": "code",
      "source": [
        "figure,axes = plt.subplots(nrows=3, ncols=5)     # 3행 5열의 구조\n",
        "figure.set_size_inches(18,12)                    # 전체 크기\n",
        "\n",
        "\n",
        "plt.gray()\n",
        "print(\"label={}\".format(y_train[0:15]))          # x 데이터 0~14개 가져오기\n",
        "\n",
        "\n",
        "col=0\n",
        "for row in range(0,3):\n",
        "  col = row*5\n",
        "  axes[row][0].imshow(X_train[col])              # 0, 5, 10의 값을 갖는 위치 값 이미지 표시\n",
        "  axes[row][1].imshow(X_train[col+1])            # 1, 6, 11의 값을 갖는 위치 값 이미지 표시\n",
        "  axes[row][2].imshow(X_train[col+2])            # 2, 7, 12의 값을 갖는 위치 값 이미지 표시\n",
        "  axes[row][3].imshow(X_train[col+3])            # 3, 8, 13의 값을 갖는 위치 값 이미지 표시\n",
        "  axes[row][4].imshow(X_train[col+4])            # 4, 9, 14의 값을 갖는 위치 값 이미지 표시"
      ],
      "metadata": {
        "colab": {
          "base_uri": "https://localhost:8080/",
          "height": 518
        },
        "id": "5AWC3pXjFp5c",
        "outputId": "dfbfb85e-c34f-4d65-b3cd-4ad92016da26"
      },
      "execution_count": 11,
      "outputs": [
        {
          "output_type": "stream",
          "name": "stdout",
          "text": [
            "label=[5 0 4 1 9 2 1 3 1 4 3 5 3 6 1]\n"
          ]
        },
        {
          "output_type": "display_data",
          "data": {
            "text/plain": [
              "<Figure size 1296x864 with 15 Axes>"
            ],
            "image/png": "[encoded data removed]"
          },
          "metadata": {
            "needs_background": "light"
          }
        }
      ]
    },
    {
      "cell_type": "code",
      "source": [
        "# 조금 더 간단한 시각화\n",
        "fig, axes = plt.subplots(3, 5, figsize=(18,12),\n",
        "                         subplot_kw = {'xticks':(), 'yticks':()})\n",
        "\n",
        "print(\"label={}\".format(y_train[0:15]))             # X 데이터 0~14개 가져오기\n",
        "\n",
        "for image, ax in zip(X_train, axes.ravel() ):\n",
        "  ax.imshow(image)                                  # 이미지 표시"
      ],
      "metadata": {
        "colab": {
          "base_uri": "https://localhost:8080/",
          "height": 515
        },
        "id": "Vzg9GbBDGOmF",
        "outputId": "f08842e2-b682-40c4-9432-774d3b9fbfb5"
      },
      "execution_count": 13,
      "outputs": [
        {
          "output_type": "stream",
          "name": "stdout",
          "text": [
            "label=[5 0 4 1 9 2 1 3 1 4 3 5 3 6 1]\n"
          ]
        },
        {
          "output_type": "display_data",
          "data": {
            "text/plain": [
              "<Figure size 1296x864 with 15 Axes>"
            ],
            "image/png": "[encoded data removed]"
          },
          "metadata": {}
        }
      ]
    },
    {
      "cell_type": "code",
      "source": [
        "# 데이터 처리\n",
        "# 입력 데이터 : X_train, X_test (60000, 28, 28) -> (60000, 784)\n",
        "# 레이블 데이터 : y_train, y_test 숫자 0~9를 2진 벡터형태로 변경 (0 0 0 0 1 0 0 0 0 0)"
      ],
      "metadata": {
        "id": "4iYSjsHbIaE1"
      },
      "execution_count": 14,
      "outputs": []
    },
    {
      "cell_type": "code",
      "source": [
        "X_train = X_train.reshape(60000, 784)\n",
        "X_test = X_test.reshape(10000, 784)\n",
        "y_train = np_utils.to_categorical(y_train)\n",
        "y_test = np_utils.to_categorical(y_test)"
      ],
      "metadata": {
        "id": "I1dQPpylIzyy"
      },
      "execution_count": 15,
      "outputs": []
    },
    {
      "cell_type": "markdown",
      "source": [
        "## 04. 모델 구축 및 학습, 평가\n",
        "첫 번째 add\n",
        "- Dense() : 층의 세부 내용 지정\n",
        "- input_dim : 입력층의 뉴런 개수, units : 입력층 이후의 은닉층의 뉴런 개수\n",
        "- activation : 활성화함수 지정\n",
        "\n",
        "두 번째 add, 마지막 층 추가\n",
        "- units = 10 : 손글씨의 예측 값이 0~9 사이의 값이므로 10개\n",
        "- 일반적으로 마지막 층(출력층)이 범주형 여러개 예측일 경우 softmax 함수를 사용"
      ],
      "metadata": {
        "id": "TlJMGq2oJHa9"
      }
    },
    {
      "cell_type": "code",
      "source": [
        "# 모델 구성하기\n",
        "model = Sequential()\n",
        "model.add(Dense(units=64, input_dim=28*28, activation='relu'))\n",
        "model.add(Dense(units=10, activation='softmax' ))"
      ],
      "metadata": {
        "id": "fbr_0SirJFyK"
      },
      "execution_count": 16,
      "outputs": []
    },
    {
      "cell_type": "markdown",
      "source": [
        "모델의 세부 설정\n",
        "- 비용함수(loss) : categorical_crossentropy (범주형 다항분류의 경우)\n",
        "- 최적화함수(optimizer) : SGD(Stochastic Gradient Descent) 알고리즘 이용\n",
        "- 최종평가(metrics) : 정확도로 측정(손글씨 정답을 맞추는지 아닌지)"
      ],
      "metadata": {
        "id": "yYpgUahvJ6L0"
      }
    },
    {
      "cell_type": "code",
      "source": [
        "# 모델 학습과정 설정하기\n",
        "model.compile(loss='categorical_crossentropy',\n",
        "              optimizer = 'sgd',\n",
        "              metrics=['accuracy'])"
      ],
      "metadata": {
        "id": "go6FusQZJ2mj"
      },
      "execution_count": 17,
      "outputs": []
    },
    {
      "cell_type": "markdown",
      "source": [
        "모델 학습시키기"
      ],
      "metadata": {
        "id": "ublIHA4NNNJu"
      }
    },
    {
      "cell_type": "code",
      "source": [
        "# 모델 학습시키기\n",
        "# validation_data : 모델을 학습할 때는 기본 데이터를 이용하고, 평가 시 사용할 데이터를 지정.\n",
        "hist = model.fit(X_train,y_train, validation_data=(X_test, y_test), epochs=10, batch_size=32)"
      ],
      "metadata": {
        "colab": {
          "base_uri": "https://localhost:8080/"
        },
        "id": "DpWj5zbiNMHH",
        "outputId": "c3d85af5-a900-4a1f-a5e8-c5a86f904f9b"
      },
      "execution_count": 19,
      "outputs": [
        {
          "output_type": "stream",
          "name": "stdout",
          "text": [
            "Epoch 1/10\n",
            "1875/1875 [==============================] - 7s 3ms/step - loss: 6.3860 - accuracy: 0.2276 - val_loss: 2.2729 - val_accuracy: 0.1223\n",
            "Epoch 2/10\n",
            "1875/1875 [==============================] - 8s 4ms/step - loss: 2.1903 - accuracy: 0.1722 - val_loss: 2.1920 - val_accuracy: 0.1815\n",
            "Epoch 3/10\n",
            "1875/1875 [==============================] - 8s 4ms/step - loss: 2.1678 - accuracy: 0.1889 - val_loss: 2.0397 - val_accuracy: 0.2122\n",
            "Epoch 4/10\n",
            "1875/1875 [==============================] - 7s 4ms/step - loss: 2.1330 - accuracy: 0.2137 - val_loss: 2.2471 - val_accuracy: 0.1984\n",
            "Epoch 5/10\n",
            "1875/1875 [==============================] - 6s 3ms/step - loss: 2.1350 - accuracy: 0.2068 - val_loss: 2.0246 - val_accuracy: 0.2275\n",
            "Epoch 6/10\n",
            "1875/1875 [==============================] - 8s 4ms/step - loss: 1.9713 - accuracy: 0.2903 - val_loss: 1.9619 - val_accuracy: 0.2558\n",
            "Epoch 7/10\n",
            "1875/1875 [==============================] - 8s 4ms/step - loss: 2.0132 - accuracy: 0.2822 - val_loss: 1.8921 - val_accuracy: 0.2979\n",
            "Epoch 8/10\n",
            "1875/1875 [==============================] - 8s 4ms/step - loss: 1.9172 - accuracy: 0.2999 - val_loss: 1.8616 - val_accuracy: 0.3411\n",
            "Epoch 9/10\n",
            "1875/1875 [==============================] - 12s 6ms/step - loss: 2.0394 - accuracy: 0.2685 - val_loss: 1.9787 - val_accuracy: 0.2685\n",
            "Epoch 10/10\n",
            "1875/1875 [==============================] - 10s 5ms/step - loss: 2.0438 - accuracy: 0.2608 - val_loss: 1.9654 - val_accuracy: 0.3157\n"
          ]
        }
      ]
    },
    {
      "cell_type": "markdown",
      "source": [
        "학습을 통해 얻어진 값 살펴보기\n",
        "- epoch 10번 이미로 값이 각각 10개 씩"
      ],
      "metadata": {
        "id": "IL2reOfQNrR-"
      }
    },
    {
      "cell_type": "code",
      "source": [
        "# 학습과정 살펴보기\n",
        "print('## training loss and acc ##')\n",
        "print(hist.history['loss'])            # 'val_loss' : 평가셋 손실값\n",
        "print(hist.history['accuracy'])        # 'val_acc' : 평가셋 정확도"
      ],
      "metadata": {
        "colab": {
          "base_uri": "https://localhost:8080/"
        },
        "id": "-RafPY1uNkXB",
        "outputId": "c2f3caa9-4086-40b9-d5c2-7cc439b68fdb"
      },
      "execution_count": 21,
      "outputs": [
        {
          "output_type": "stream",
          "name": "stdout",
          "text": [
            "## training loss and acc ##\n",
            "[6.386043071746826, 2.1902904510498047, 2.1678311824798584, 2.133026599884033, 2.1350200176239014, 1.9713153839111328, 2.0131919384002686, 1.9172227382659912, 2.0393993854522705, 2.0437560081481934]\n",
            "[0.22759999334812164, 0.1721833348274231, 0.18885000050067902, 0.21369999647140503, 0.20679999887943268, 0.2902500033378601, 0.28216665983200073, 0.2999333441257477, 0.268533319234848, 0.2608333230018616]\n"
          ]
        }
      ]
    },
    {
      "cell_type": "code",
      "source": [
        "plt.plot(hist.history['loss'], label='loss')\n",
        "plt.plot(hist.history['accuracy'], label='accuracy')\n",
        "plt.legend()"
      ],
      "metadata": {
        "colab": {
          "base_uri": "https://localhost:8080/",
          "height": 283
        },
        "id": "QOizOFYsOECw",
        "outputId": "ede3a44d-4522-4a6e-faa4-7869b4f2078a"
      },
      "execution_count": 22,
      "outputs": [
        {
          "output_type": "execute_result",
          "data": {
            "text/plain": [
              "<matplotlib.legend.Legend at 0x7fc58e91c890>"
            ]
          },
          "metadata": {},
          "execution_count": 22
        },
        {
          "output_type": "display_data",
          "data": {
            "text/plain": [
              "<Figure size 432x288 with 1 Axes>"
            ],
            "image/png": "[encoded data removed]"
          },
          "metadata": {
            "needs_background": "light"
          }
        }
      ]
    },
    {
      "cell_type": "markdown",
      "source": [
        "모델 평가하기\n",
        "- 테스트 데이터 셋(X_test, y_test)을 이용\n",
        "- 첫번째 값이 loss 손실값\n",
        "- 두번째 값이 정확도"
      ],
      "metadata": {
        "id": "qLoEzoFTO29x"
      }
    },
    {
      "cell_type": "code",
      "source": [
        "loss_and_metrics = model.evaluate(X_test, y_test, batch_size=32)\n",
        "print('## evaluation loss and metrics ##')\n",
        "print(loss_and_metrics)"
      ],
      "metadata": {
        "colab": {
          "base_uri": "https://localhost:8080/"
        },
        "id": "e055lgfBOzC3",
        "outputId": "24777e02-ca2d-43c7-d51e-45c3e4672b5d"
      },
      "execution_count": 23,
      "outputs": [
        {
          "output_type": "stream",
          "name": "stdout",
          "text": [
            "313/313 [==============================] - 1s 4ms/step - loss: 1.9654 - accuracy: 0.3157\n",
            "## evaluation loss and metrics ##\n",
            "[1.965428352355957, 0.3156999945640564]\n"
          ]
        }
      ]
    },
    {
      "cell_type": "markdown",
      "source": [
        "## 실습과제\n",
        "- 가. 픽셀값을 0~255를 0~1 사이로 변경해보기\n",
        "- 나. epoch=10 -> 20 으로 변경해보기. 어떤 현상이 발생되는가\n",
        "- 다. batch_size = 32 -> 16 변경해보기.\n",
        "\n",
        "### 참고 동영상\n",
        "- https://www.youtube.com/watch?v=aircAruvnKk"
      ],
      "metadata": {
        "id": "62q8D40nPQpo"
      }
    },
    {
      "cell_type": "code",
      "source": [],
      "metadata": {
        "id": "a7WiRhNaPitG"
      },
      "execution_count": null,
      "outputs": []
    }
  ]
}